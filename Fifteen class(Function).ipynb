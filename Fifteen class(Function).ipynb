{
 "cells": [
  {
   "cell_type": "code",
   "execution_count": 4,
   "metadata": {},
   "outputs": [
    {
     "name": "stdout",
     "output_type": "stream",
     "text": [
      "Hello World\n",
      "Enter y for more print=y\n",
      "Hello World\n",
      "Enter y for more print=y\n",
      "Hello World\n",
      "Enter y for more print=x\n"
     ]
    }
   ],
   "source": [
    "def hello():\n",
    "    print(\"Hello World\")\n",
    "    x=input(\"Enter y for more print=\")\n",
    "    if x== 'y':\n",
    "        hello()\n",
    "\n",
    "        \n",
    "hello()"
   ]
  },
  {
   "cell_type": "code",
   "execution_count": 6,
   "metadata": {},
   "outputs": [
    {
     "name": "stdout",
     "output_type": "stream",
     "text": [
      "Enter a=10\n",
      "Enter b=7\n",
      "Enter + - * /-\n",
      "3\n",
      "Enter y for more calculationy\n",
      "Enter a=18\n",
      "Enter b=21\n",
      "Enter + - * /*\n",
      "378\n",
      "Enter y for more calculationx\n"
     ]
    }
   ],
   "source": [
    "def add(a,b):\n",
    "    return a+b\n",
    "def sub(a,b):\n",
    "    return a-b\n",
    "def mul(a,b):\n",
    "    return a*b\n",
    "def div(a,b):\n",
    "    return a/b\n",
    "def cal():\n",
    "    a=int(input(\"Enter a=\"))\n",
    "    b=int(input(\"Enter b=\"))\n",
    "    o=input(\"Enter + - * /\")\n",
    "    if o=='+':\n",
    "        print(add(a,b))\n",
    "    elif o=='-':\n",
    "        print(sub(a,b))\n",
    "    elif o=='*':\n",
    "        print(mul(a,b))\n",
    "    elif o=='/':\n",
    "        print(div(a,b))\n",
    "    else:\n",
    "        print(\"Invalid operator\")\n",
    "        \n",
    "    x=input(\"Enter y for more calculation\")\n",
    "    if x=='y':\n",
    "        \n",
    "        cal()\n",
    "        \n",
    "        \n",
    "cal()"
   ]
  },
  {
   "cell_type": "markdown",
   "metadata": {},
   "source": []
  },
  {
   "cell_type": "code",
   "execution_count": 8,
   "metadata": {},
   "outputs": [
    {
     "name": "stdout",
     "output_type": "stream",
     "text": [
      "3.141592653589793\n"
     ]
    }
   ],
   "source": [
    "#math function\n",
    "import math as m\n",
    "print(m.pi)"
   ]
  },
  {
   "cell_type": "code",
   "execution_count": 9,
   "metadata": {},
   "outputs": [
    {
     "name": "stdout",
     "output_type": "stream",
     "text": [
      "Enter radius r=10\n",
      "314.1592653589793\n"
     ]
    }
   ],
   "source": [
    "import math as m\n",
    "p=m.pi\n",
    "def area(r):\n",
    "    a=p*(m.pow(r,2))\n",
    "    return a\n",
    "\n",
    "r=int(input(\"Enter radius r=\"))\n",
    "print(area(r))"
   ]
  },
  {
   "cell_type": "code",
   "execution_count": 10,
   "metadata": {},
   "outputs": [
    {
     "ename": "TypeError",
     "evalue": "perm() takes no keyword arguments",
     "output_type": "error",
     "traceback": [
      "\u001b[1;31m---------------------------------------------------------------------------\u001b[0m",
      "\u001b[1;31mTypeError\u001b[0m                                 Traceback (most recent call last)",
      "\u001b[1;32m<ipython-input-10-1dec74ade254>\u001b[0m in \u001b[0;36m<module>\u001b[1;34m\u001b[0m\n\u001b[0;32m      2\u001b[0m \u001b[0ma\u001b[0m\u001b[1;33m=\u001b[0m\u001b[1;36m10\u001b[0m\u001b[1;33m\u001b[0m\u001b[1;33m\u001b[0m\u001b[0m\n\u001b[0;32m      3\u001b[0m \u001b[0mb\u001b[0m\u001b[1;33m=\u001b[0m\u001b[1;36m5\u001b[0m\u001b[1;33m\u001b[0m\u001b[1;33m\u001b[0m\u001b[0m\n\u001b[1;32m----> 4\u001b[1;33m \u001b[0mm\u001b[0m\u001b[1;33m.\u001b[0m\u001b[0mperm\u001b[0m\u001b[1;33m(\u001b[0m\u001b[0ma\u001b[0m\u001b[1;33m,\u001b[0m\u001b[0mk\u001b[0m\u001b[1;33m=\u001b[0m\u001b[1;36m5\u001b[0m\u001b[1;33m)\u001b[0m\u001b[1;33m\u001b[0m\u001b[1;33m\u001b[0m\u001b[0m\n\u001b[0m",
      "\u001b[1;31mTypeError\u001b[0m: perm() takes no keyword arguments"
     ]
    }
   ],
   "source": [
    "import math as m\n",
    "a=10\n",
    "b=5\n",
    "m.perm(a,k=5)"
   ]
  },
  {
   "cell_type": "code",
   "execution_count": 11,
   "metadata": {},
   "outputs": [
    {
     "ename": "AttributeError",
     "evalue": "'int' object has no attribute 'lcm'",
     "output_type": "error",
     "traceback": [
      "\u001b[1;31m---------------------------------------------------------------------------\u001b[0m",
      "\u001b[1;31mAttributeError\u001b[0m                            Traceback (most recent call last)",
      "\u001b[1;32m<ipython-input-11-15f127443218>\u001b[0m in \u001b[0;36m<module>\u001b[1;34m\u001b[0m\n\u001b[0;32m      1\u001b[0m \u001b[1;32mimport\u001b[0m \u001b[0mmath\u001b[0m \u001b[1;32mas\u001b[0m \u001b[0mm\u001b[0m\u001b[1;33m\u001b[0m\u001b[1;33m\u001b[0m\u001b[0m\n\u001b[1;32m----> 2\u001b[1;33m \u001b[0ma\u001b[0m\u001b[1;33m.\u001b[0m\u001b[0mlcm\u001b[0m\u001b[1;33m(\u001b[0m\u001b[1;36m4\u001b[0m\u001b[1;33m,\u001b[0m\u001b[1;36m8\u001b[0m\u001b[1;33m)\u001b[0m\u001b[1;33m\u001b[0m\u001b[1;33m\u001b[0m\u001b[0m\n\u001b[0m",
      "\u001b[1;31mAttributeError\u001b[0m: 'int' object has no attribute 'lcm'"
     ]
    }
   ],
   "source": [
    "import math as m\n",
    "a.lcm(4,8)"
   ]
  },
  {
   "cell_type": "code",
   "execution_count": 13,
   "metadata": {},
   "outputs": [
    {
     "name": "stdout",
     "output_type": "stream",
     "text": [
      "1.0\n"
     ]
    }
   ],
   "source": [
    "import math as m\n",
    "print(m.sin(m.pi/2))"
   ]
  },
  {
   "cell_type": "code",
   "execution_count": 15,
   "metadata": {},
   "outputs": [
    {
     "name": "stdout",
     "output_type": "stream",
     "text": [
      "1.0\n",
      "6.123233995736766e-17\n",
      "1.633123935319537e+16\n"
     ]
    }
   ],
   "source": [
    "import math as m\n",
    "a=m.pi/2\n",
    "print(m.sin(a))\n",
    "print(m.cos(a))\n",
    "print(m.tan(a))"
   ]
  },
  {
   "cell_type": "code",
   "execution_count": 17,
   "metadata": {},
   "outputs": [
    {
     "name": "stdout",
     "output_type": "stream",
     "text": [
      "1.0\n"
     ]
    }
   ],
   "source": [
    "import math as m\n",
    "p=m.pi/2\n",
    "x=m.pow(m.sin(p),2)\n",
    "y=m.pow(m.cos(p),2)\n",
    "print(x+y)"
   ]
  },
  {
   "cell_type": "code",
   "execution_count": 27,
   "metadata": {},
   "outputs": [
    {
     "name": "stdout",
     "output_type": "stream",
     "text": [
      "Enter n=2\n",
      "Enter name=Ram\n",
      "Enter age=21\n",
      "Enter address=koteshwor\n",
      "Enter name=Shyam\n",
      "Enter age=23\n",
      "Enter address=Tinkune\n",
      "[[1, 'Ram', '21', 'koteshwor'], [2, 'Shyam', '23', 'Tinkune']]\n"
     ]
    }
   ],
   "source": [
    "data=[]\n",
    "def datas(info):\n",
    "    global data\n",
    "    data=data+info\n",
    "    \n",
    "n=int(input(\"Enter n=\"))\n",
    "for i in range(1,n+1):\n",
    "    name=input(\"Enter name=\")\n",
    "    age=input(\"Enter age=\")\n",
    "    add=input(\"Enter address=\")\n",
    "    info=[[i,name,age,add]]\n",
    "    datas(info)\n",
    "    \n",
    "print(data)"
   ]
  },
  {
   "cell_type": "markdown",
   "metadata": {},
   "source": [
    "# "
   ]
  },
  {
   "cell_type": "code",
   "execution_count": 30,
   "metadata": {},
   "outputs": [
    {
     "name": "stdout",
     "output_type": "stream",
     "text": [
      "Enter 1 for edit 2 for delete=2\n",
      "Enter index=1\n",
      "[[1, 'Ram', '21', 'koteshwor']]\n"
     ]
    }
   ],
   "source": [
    "data=[[1, 'Ram', '21', 'koteshwor'], [2, 'Shyam', '23', 'Tinkune']]\n",
    "\n",
    "def edit():\n",
    "    i=int(input(\"Enter index\"))\n",
    "    pass\n",
    "\n",
    "def delete():\n",
    "    i=int(input(\"Enter index=\"))\n",
    "    del data[i]\n",
    "    return data\n",
    "\n",
    "x=int(input(\"Enter 1 for edit 2 for delete=\"))\n",
    "if x==1:\n",
    "    print(edit())\n",
    "elif x==2:\n",
    "    print(delete())\n",
    "    "
   ]
  },
  {
   "cell_type": "code",
   "execution_count": null,
   "metadata": {},
   "outputs": [],
   "source": []
  }
 ],
 "metadata": {
  "kernelspec": {
   "display_name": "Python 3",
   "language": "python",
   "name": "python3"
  },
  "language_info": {
   "codemirror_mode": {
    "name": "ipython",
    "version": 3
   },
   "file_extension": ".py",
   "mimetype": "text/x-python",
   "name": "python",
   "nbconvert_exporter": "python",
   "pygments_lexer": "ipython3",
   "version": "3.8.5"
  }
 },
 "nbformat": 4,
 "nbformat_minor": 4
}
