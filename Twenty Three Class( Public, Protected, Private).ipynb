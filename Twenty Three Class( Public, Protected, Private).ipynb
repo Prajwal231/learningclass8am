{
 "cells": [
  {
   "cell_type": "code",
   "execution_count": 2,
   "metadata": {},
   "outputs": [
    {
     "name": "stdout",
     "output_type": "stream",
     "text": [
      "Ram\n",
      "21\n",
      "Koteshwor\n"
     ]
    }
   ],
   "source": [
    "#public attributes\n",
    "class Info:\n",
    "    def __init__(self,name,age,add):\n",
    "        self.name=name\n",
    "        self.age=age\n",
    "        self.add=add\n",
    "        \n",
    "obj=Info('Ram','21','Koteshwor')\n",
    "print(obj.name)\n",
    "print(obj.age)\n",
    "print(obj.add)"
   ]
  },
  {
   "cell_type": "code",
   "execution_count": 4,
   "metadata": {},
   "outputs": [
    {
     "name": "stdout",
     "output_type": "stream",
     "text": [
      "Ram\n",
      "21\n",
      "Koteshwor\n"
     ]
    }
   ],
   "source": [
    "#protected attributes\n",
    "class Info:\n",
    "    def __init__(self,name,age,add):\n",
    "        self._name=name\n",
    "        self._age=age\n",
    "        self._add=add\n",
    "        \n",
    "obj=Info(\"Ram\",\"21\",\"Koteshwor\")\n",
    "print(obj._name)\n",
    "print(obj._age)\n",
    "print(obj._add)"
   ]
  },
  {
   "cell_type": "code",
   "execution_count": 5,
   "metadata": {},
   "outputs": [
    {
     "ename": "AttributeError",
     "evalue": "'Info' object has no attribute '__name'",
     "output_type": "error",
     "traceback": [
      "\u001b[1;31m---------------------------------------------------------------------------\u001b[0m",
      "\u001b[1;31mAttributeError\u001b[0m                            Traceback (most recent call last)",
      "\u001b[1;32m<ipython-input-5-f7e685c93f0a>\u001b[0m in \u001b[0;36m<module>\u001b[1;34m\u001b[0m\n\u001b[0;32m      7\u001b[0m \u001b[1;33m\u001b[0m\u001b[0m\n\u001b[0;32m      8\u001b[0m \u001b[0mobj\u001b[0m\u001b[1;33m=\u001b[0m\u001b[0mInfo\u001b[0m\u001b[1;33m(\u001b[0m\u001b[1;34m\"Ram\"\u001b[0m\u001b[1;33m,\u001b[0m\u001b[1;34m\"21\"\u001b[0m\u001b[1;33m,\u001b[0m\u001b[1;34m\"Koteshwor\"\u001b[0m\u001b[1;33m)\u001b[0m\u001b[1;33m\u001b[0m\u001b[1;33m\u001b[0m\u001b[0m\n\u001b[1;32m----> 9\u001b[1;33m \u001b[0mprint\u001b[0m\u001b[1;33m(\u001b[0m\u001b[0mobj\u001b[0m\u001b[1;33m.\u001b[0m\u001b[0m__name\u001b[0m\u001b[1;33m)\u001b[0m\u001b[1;33m\u001b[0m\u001b[1;33m\u001b[0m\u001b[0m\n\u001b[0m\u001b[0;32m     10\u001b[0m \u001b[0mprint\u001b[0m\u001b[1;33m(\u001b[0m\u001b[0mobj\u001b[0m\u001b[1;33m.\u001b[0m\u001b[0m__age\u001b[0m\u001b[1;33m)\u001b[0m\u001b[1;33m\u001b[0m\u001b[1;33m\u001b[0m\u001b[0m\n\u001b[0;32m     11\u001b[0m \u001b[0mprint\u001b[0m\u001b[1;33m(\u001b[0m\u001b[0mobj\u001b[0m\u001b[1;33m.\u001b[0m\u001b[0m__add\u001b[0m\u001b[1;33m)\u001b[0m\u001b[1;33m\u001b[0m\u001b[1;33m\u001b[0m\u001b[0m\n",
      "\u001b[1;31mAttributeError\u001b[0m: 'Info' object has no attribute '__name'"
     ]
    }
   ],
   "source": [
    "#private attributes\n",
    "class Info:\n",
    "    def __init__(self,name,age,add):\n",
    "        self.__name=name\n",
    "        self.__age=age\n",
    "        self.__add=add\n",
    "        \n",
    "obj=Info(\"Ram\",\"21\",\"Koteshwor\")\n",
    "print(obj.__name)\n",
    "print(obj.__age)\n",
    "print(obj.__add)"
   ]
  },
  {
   "cell_type": "code",
   "execution_count": 6,
   "metadata": {},
   "outputs": [
    {
     "name": "stdout",
     "output_type": "stream",
     "text": [
      "Ram\n",
      "21\n",
      "Koteshwor\n"
     ]
    }
   ],
   "source": [
    "class Info:\n",
    "    def __init__(self,name,age,add):\n",
    "        self.__name=name\n",
    "        self.__age=age\n",
    "        self.__add=add\n",
    "        \n",
    "obj=Info(\"Ram\",\"21\",\"Koteshwor\")\n",
    "print(obj._Info__name)\n",
    "print(obj._Info__age)\n",
    "print(obj._Info__add)"
   ]
  },
  {
   "cell_type": "code",
   "execution_count": 11,
   "metadata": {},
   "outputs": [
    {
     "name": "stdout",
     "output_type": "stream",
     "text": [
      "Enter name=Ram\n",
      "Enter age=21\n",
      "Enter add=Koteshwor\n",
      "Enter salary=15000\n",
      "Hello your name is Ram, you are 21, your address is Koteshwor and your salary is Rs15000.\n"
     ]
    }
   ],
   "source": [
    "class Data:\n",
    "    def __init__(self):\n",
    "        self.name=input(\"Enter name=\")\n",
    "        self._age=int(input(\"Enter age=\"))\n",
    "        self.__add=input(\"Enter add=\")\n",
    "        \n",
    "        \n",
    "class Hr:\n",
    "    def __init__(self):\n",
    "        self.__salary=int(input(\"Enter salary=\"))  \n",
    "        \n",
    "    def hr(self):\n",
    "        print(f\"Hello {self.name}, this is Hr section.\")\n",
    "        \n",
    "class Office(Data,Hr):\n",
    "    def __init__(self):\n",
    "        Data.__init__(self)\n",
    "        Hr.__init__(self)\n",
    "    def office(self):\n",
    "        print(f\"Hello your name is {self.name}, you are {self._age}, your address is {self._Data__add} and your salary is Rs{self._Hr__salary}.\")\n",
    "obj=Office()\n",
    "obj.office()"
   ]
  },
  {
   "cell_type": "code",
   "execution_count": 13,
   "metadata": {},
   "outputs": [
    {
     "name": "stdout",
     "output_type": "stream",
     "text": [
      "Enter name=Ram\n",
      "Enter age=21\n",
      "Enter add=Koteshwor\n",
      "Enter salary=15000\n",
      "Hello your name is Ram, you are 21, your address is Koteshwor and your salary is Rs15000.\n"
     ]
    }
   ],
   "source": [
    "class Data:\n",
    "    def __init__(self):\n",
    "        self.name=input(\"Enter name=\")\n",
    "        self._age=int(input(\"Enter age=\"))\n",
    "        self.__add=input(\"Enter add=\")\n",
    "    def add(self):\n",
    "        return self.__add\n",
    "        \n",
    "        \n",
    "class Hr:\n",
    "    def __init__(self):\n",
    "        self.salary=int(input(\"Enter salary=\"))  \n",
    "        \n",
    "    def hr(self):\n",
    "        print(f\"Hello {self.name}, this is Hr section.\")\n",
    "        \n",
    "class Office(Data,Hr):\n",
    "    def __init__(self):\n",
    "        Data.__init__(self)\n",
    "        Hr.__init__(self)\n",
    "    def office(self):\n",
    "        print(f\"Hello your name is {self.name}, you are {self._age}, your address is {super().add()} and your salary is Rs{self.salary}.\")\n",
    "obj=Office()\n",
    "obj.office()"
   ]
  },
  {
   "cell_type": "code",
   "execution_count": null,
   "metadata": {},
   "outputs": [],
   "source": []
  }
 ],
 "metadata": {
  "kernelspec": {
   "display_name": "Python 3",
   "language": "python",
   "name": "python3"
  },
  "language_info": {
   "codemirror_mode": {
    "name": "ipython",
    "version": 3
   },
   "file_extension": ".py",
   "mimetype": "text/x-python",
   "name": "python",
   "nbconvert_exporter": "python",
   "pygments_lexer": "ipython3",
   "version": "3.8.5"
  }
 },
 "nbformat": 4,
 "nbformat_minor": 4
}
