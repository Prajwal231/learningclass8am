{
 "cells": [
  {
   "cell_type": "code",
   "execution_count": null,
   "metadata": {},
   "outputs": [],
   "source": [
    "\n"
   ]
  },
  {
   "cell_type": "markdown",
   "metadata": {},
   "source": [
    "##### "
   ]
  },
  {
   "cell_type": "code",
   "execution_count": 30,
   "metadata": {},
   "outputs": [
    {
     "name": "stdout",
     "output_type": "stream",
     "text": [
      "Enter the name of studentBishal Shahi\n",
      "Enter the number of subject=5\n",
      "Enter the name of subject=Physics\n",
      "Enter the marks=59\n",
      "Enter the marks=21\n",
      "Enter the name of subject=Chemistry\n",
      "Enter the marks=58\n",
      "Enter the marks=23\n",
      "Enter the name of subject=C.Maths\n",
      "Enter the marks=87\n",
      "Enter the marks=0\n",
      "Enter the name of subject=English\n",
      "Enter the marks=64\n",
      "Enter the marks=22\n",
      "Enter the name of subject=Computer\n",
      "Enter the marks=71\n",
      "Enter the marks=24\n",
      "Bishal Shahi\n",
      "Physics 59 21 80\n",
      "Chemistry 58 23 81\n",
      "C.Maths 87 0 87\n",
      "English 64 22 86\n",
      "Computer 71 24 95\n",
      "\n",
      "429\n",
      "85.8\n",
      "The grade is A.\n"
     ]
    }
   ],
   "source": [
    "#result of a student with percentage and grade\n",
    "info=\"\"\n",
    "total_marks=0\n",
    "a=input(\"Enter the name of student\")\n",
    "n=int(input(\"Enter the number of subject=\"))\n",
    "for i in range(n):\n",
    "    Subject=input(\"Enter the name of subject=\")\n",
    "    Theory=int(input(\"Enter the marks=\"))\n",
    "    Practical=int(input(\"Enter the marks=\"))\n",
    "    Total= Theory+Practical\n",
    "    data=f\"{Subject} {Theory} {Practical} {Total}\\n\"\n",
    "    total_marks= total_marks+Total\n",
    "    b=n*100\n",
    "    percentage=(total_marks/b)*100\n",
    "    info=info+data\n",
    "print(a)\n",
    "print(info)\n",
    "print(total_marks)\n",
    "print(percentage)\n",
    "if percentage>=90:\n",
    "    print(\"The grade is A+.\")\n",
    "elif percentage>=80 and percentage<90:\n",
    "    print(\"The grade is A.\")\n",
    "elif percentage>=70 and percentage<80:\n",
    "    print(\"The grade is B+.\")\n",
    "elif percentage>=60 and percentage<70:\n",
    "    print(\"The grade is B.\")\n",
    "elif percentage>=50 and percentage<60:\n",
    "    print(\"The grade is C+\")\n",
    "elif percentage>=40 and percentage<50:\n",
    "    print(\"The grade is C.\")\n",
    "elif percentage>=30 and percentage<40:\n",
    "    print(\"The grade is D+.\")\n",
    "elif percentage>=20 and percentage<30:\n",
    "    print(\"The grade is D.\")\n",
    "else:\n",
    "    print(\"the grade is E.\")"
   ]
  },
  {
   "cell_type": "code",
   "execution_count": null,
   "metadata": {},
   "outputs": [],
   "source": []
  }
 ],
 "metadata": {
  "kernelspec": {
   "display_name": "Python 3",
   "language": "python",
   "name": "python3"
  },
  "language_info": {
   "codemirror_mode": {
    "name": "ipython",
    "version": 3
   },
   "file_extension": ".py",
   "mimetype": "text/x-python",
   "name": "python",
   "nbconvert_exporter": "python",
   "pygments_lexer": "ipython3",
   "version": "3.8.5"
  }
 },
 "nbformat": 4,
 "nbformat_minor": 4
}
