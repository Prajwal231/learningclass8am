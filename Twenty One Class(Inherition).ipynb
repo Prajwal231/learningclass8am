{
 "cells": [
  {
   "cell_type": "code",
   "execution_count": 1,
   "metadata": {},
   "outputs": [
    {
     "name": "stdout",
     "output_type": "stream",
     "text": [
      "This is class A\n",
      "This is class B\n"
     ]
    }
   ],
   "source": [
    "class A:\n",
    "    print(\"This is class A\")\n",
    "class B(A):\n",
    "    print(\"This is class B\")"
   ]
  },
  {
   "cell_type": "code",
   "execution_count": 4,
   "metadata": {},
   "outputs": [
    {
     "name": "stdout",
     "output_type": "stream",
     "text": [
      "Enter l=10\n",
      "Enter b=2\n",
      "Enter h=3\n",
      "60\n"
     ]
    }
   ],
   "source": [
    "class Cal:\n",
    "    def __init__(self):\n",
    "    \n",
    "        self.l=int(input(\"Enter l=\"))\n",
    "        self.b=int(input(\"Enter b=\"))\n",
    "class Area(Cal):\n",
    "    def area(self):\n",
    "        h=int(input(\"Enter h=\"))\n",
    "        v=self.l*self.b*h\n",
    "        print(v)\n",
    "        \n",
    "x=Area()\n",
    "x.area()"
   ]
  },
  {
   "cell_type": "code",
   "execution_count": 6,
   "metadata": {},
   "outputs": [
    {
     "name": "stdout",
     "output_type": "stream",
     "text": [
      "Enter l=10\n",
      "Enter b=2\n",
      "20\n",
      "Enter h=3\n",
      "60\n"
     ]
    }
   ],
   "source": [
    "class Cal:\n",
    "    def __init__(self):\n",
    "    \n",
    "        self.l=int(input(\"Enter l=\"))\n",
    "        self.b=int(input(\"Enter b=\"))\n",
    "    def area(self):\n",
    "        a=self.l*self.b\n",
    "        print(a)\n",
    "        \n",
    "class Volume(Cal):\n",
    "    def volume(self):\n",
    "        h=int(input(\"Enter h=\"))\n",
    "        v=self.l*self.b*h\n",
    "        print(v)\n",
    "        \n",
    "x=Volume()\n",
    "x.area()\n",
    "x.volume()"
   ]
  },
  {
   "cell_type": "code",
   "execution_count": null,
   "metadata": {},
   "outputs": [],
   "source": []
  }
 ],
 "metadata": {
  "kernelspec": {
   "display_name": "Python 3",
   "language": "python",
   "name": "python3"
  },
  "language_info": {
   "codemirror_mode": {
    "name": "ipython",
    "version": 3
   },
   "file_extension": ".py",
   "mimetype": "text/x-python",
   "name": "python",
   "nbconvert_exporter": "python",
   "pygments_lexer": "ipython3",
   "version": "3.8.5"
  }
 },
 "nbformat": 4,
 "nbformat_minor": 4
}
