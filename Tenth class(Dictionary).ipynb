{
 "cells": [
  {
   "cell_type": "code",
   "execution_count": 1,
   "metadata": {},
   "outputs": [],
   "source": [
    "#dict\n",
    "#-indexed\n",
    "#-ordered\n",
    "#-duplicate members\n",
    "#-mutable"
   ]
  },
  {
   "cell_type": "code",
   "execution_count": 2,
   "metadata": {},
   "outputs": [
    {
     "data": {
      "text/plain": [
       "dict"
      ]
     },
     "execution_count": 2,
     "metadata": {},
     "output_type": "execute_result"
    }
   ],
   "source": [
    "a={}\n",
    "type(a)"
   ]
  },
  {
   "cell_type": "code",
   "execution_count": 12,
   "metadata": {},
   "outputs": [
    {
     "name": "stdout",
     "output_type": "stream",
     "text": [
      "{'a': 'apple', 'b': 'ball'}\n",
      "apple\n",
      "{1: 'Apple', 2: 'Ball'}\n",
      "Apple\n"
     ]
    }
   ],
   "source": [
    "#a={<key>:<value>,<key>:<value>}\n",
    "dict_a={\"a\":\"apple\",\"b\":\"ball\"}\n",
    "dict_b={1:\"Apple\",2:\"Ball\"}\n",
    "print(dict_a)\n",
    "print(dict_a[\"a\"])\n",
    "print(dict_b)\n",
    "print(dict_b[1])"
   ]
  },
  {
   "cell_type": "code",
   "execution_count": 10,
   "metadata": {},
   "outputs": [
    {
     "data": {
      "text/plain": [
       "{'a': 'apple', 'b': 'ball', 'A': 'apple'}"
      ]
     },
     "execution_count": 10,
     "metadata": {},
     "output_type": "execute_result"
    }
   ],
   "source": [
    "dict_a={\"a\":\"apple\",\"b\":\"ball\",\"A\":\"apple\"}\n",
    "dict_a"
   ]
  },
  {
   "cell_type": "code",
   "execution_count": 17,
   "metadata": {},
   "outputs": [
    {
     "data": {
      "text/plain": [
       "{1: 'Apple'}"
      ]
     },
     "execution_count": 17,
     "metadata": {},
     "output_type": "execute_result"
    }
   ],
   "source": [
    "a={}\n",
    "a[1]=\"Apple\"\n",
    "a"
   ]
  },
  {
   "cell_type": "code",
   "execution_count": 18,
   "metadata": {},
   "outputs": [
    {
     "data": {
      "text/plain": [
       "{1: 'Ant'}"
      ]
     },
     "execution_count": 18,
     "metadata": {},
     "output_type": "execute_result"
    }
   ],
   "source": [
    "a={1:\"Apple\"}\n",
    "a[1]=\"Ant\"\n",
    "a"
   ]
  },
  {
   "cell_type": "code",
   "execution_count": 21,
   "metadata": {},
   "outputs": [
    {
     "name": "stdout",
     "output_type": "stream",
     "text": [
      "{'Ram': 9823415768, 'Shyam': 9841326798, 'Hari': 9862345134}\n"
     ]
    }
   ],
   "source": [
    "a={}\n",
    "a[\"Ram\"]=9823415768\n",
    "a[\"Shyam\"]=9841326798\n",
    "a[\"Hari\"]=9862345134\n",
    "print(a)"
   ]
  },
  {
   "cell_type": "code",
   "execution_count": 25,
   "metadata": {},
   "outputs": [
    {
     "name": "stdout",
     "output_type": "stream",
     "text": [
      "Enter thevalue of n=2\n",
      "Enter name=Ram\n",
      "Enter phone=9821346732\n",
      "Enter name=Shyam\n",
      "Enter phone=9876541326\n",
      "{'Ram': '9821346732', 'Shyam': '9876541326'}\n"
     ]
    }
   ],
   "source": [
    "d={}\n",
    "n=int(input(\"Enter thevalue of n=\"))\n",
    "for i in range(n):\n",
    "    name=input(\"Enter name=\")\n",
    "    phone=input(\"Enter phone=\")\n",
    "    d[name]=phone\n",
    "print(d)"
   ]
  },
  {
   "cell_type": "code",
   "execution_count": 28,
   "metadata": {},
   "outputs": [
    {
     "name": "stdout",
     "output_type": "stream",
     "text": [
      "('Ram', '9821346732')\n",
      "('Shyam', '9876541326')\n"
     ]
    }
   ],
   "source": [
    "for i in d.items():\n",
    "    print(i)"
   ]
  },
  {
   "cell_type": "code",
   "execution_count": 29,
   "metadata": {},
   "outputs": [
    {
     "name": "stdout",
     "output_type": "stream",
     "text": [
      "[('Ram', '9821346732'), ('Shyam', '9876541326')]\n"
     ]
    }
   ],
   "source": [
    "z=[]\n",
    "for i in d.items():\n",
    "   z.append(i)\n",
    "print(z)"
   ]
  },
  {
   "cell_type": "code",
   "execution_count": 34,
   "metadata": {},
   "outputs": [
    {
     "name": "stdout",
     "output_type": "stream",
     "text": [
      "{'Ram': '9821346732', 'Shyam': '9876541326'}\n"
     ]
    }
   ],
   "source": [
    "z=[('Ram', '9821346732'), ('Shyam', '9876541326')]\n",
    "d={}\n",
    "for i in z:\n",
    "    key=i[0]\n",
    "    value=i[1]\n",
    "    d[key]=value\n",
    "    \n",
    "print(d)"
   ]
  },
  {
   "cell_type": "code",
   "execution_count": 35,
   "metadata": {},
   "outputs": [
    {
     "data": {
      "text/plain": [
       "{'a': 'apple'}"
      ]
     },
     "execution_count": 35,
     "metadata": {},
     "output_type": "execute_result"
    }
   ],
   "source": [
    "d={\"a\":\"apple\"}\n",
    "d"
   ]
  },
  {
   "cell_type": "code",
   "execution_count": 37,
   "metadata": {},
   "outputs": [
    {
     "data": {
      "text/plain": [
       "{('a', 'A'): 'apple'}"
      ]
     },
     "execution_count": 37,
     "metadata": {},
     "output_type": "execute_result"
    }
   ],
   "source": [
    "d={(\"a\",\"A\"):\"apple\"}\n",
    "d"
   ]
  },
  {
   "cell_type": "code",
   "execution_count": 39,
   "metadata": {},
   "outputs": [
    {
     "name": "stdout",
     "output_type": "stream",
     "text": [
      "{'Ram': [9841326753, 9823476531], 'Shyam': [9849632497, 9818534721]}\n",
      "[9841326753, 9823476531]\n"
     ]
    }
   ],
   "source": [
    "#list inside dictionary\n",
    "d={\"Ram\":[9841326753,9823476531],\"Shyam\":[9849632497,9818534721]}\n",
    "print(d)\n",
    "print(d[\"Ram\"])"
   ]
  },
  {
   "cell_type": "markdown",
   "metadata": {},
   "source": []
  },
  {
   "cell_type": "code",
   "execution_count": 41,
   "metadata": {},
   "outputs": [
    {
     "name": "stdout",
     "output_type": "stream",
     "text": [
      "Enter name=Shyam\n",
      "Enter 0 for ntc 1for ncell1\n",
      "9818534721\n"
     ]
    }
   ],
   "source": [
    "name=input(\"Enter name=\")\n",
    "phone=int(input(\"Enter 0 for ntc 1for ncell\"))\n",
    "print(d[name][phone])"
   ]
  },
  {
   "cell_type": "code",
   "execution_count": 42,
   "metadata": {},
   "outputs": [
    {
     "data": {
      "text/plain": [
       "{'Ram': [9852348172, 9823476531], 'Shyam': [9849632497, 9818534721]}"
      ]
     },
     "execution_count": 42,
     "metadata": {},
     "output_type": "execute_result"
    }
   ],
   "source": [
    "d[\"Ram\"][0]=9852348172\n",
    "d"
   ]
  },
  {
   "cell_type": "code",
   "execution_count": 43,
   "metadata": {},
   "outputs": [
    {
     "data": {
      "text/plain": [
       "{'Ram': [9823476531], 'Shyam': [9849632497, 9818534721]}"
      ]
     },
     "execution_count": 43,
     "metadata": {},
     "output_type": "execute_result"
    }
   ],
   "source": [
    "del d[\"Ram\"][0]\n",
    "d"
   ]
  },
  {
   "cell_type": "code",
   "execution_count": 44,
   "metadata": {},
   "outputs": [
    {
     "name": "stdout",
     "output_type": "stream",
     "text": [
      "{'Ram': [9841326871, 9823476531], 'Shyam': [9849632497, 9818534721]}\n"
     ]
    }
   ],
   "source": [
    "d[\"Ram\"].insert(0,9841326871)\n",
    "print(d)"
   ]
  },
  {
   "cell_type": "code",
   "execution_count": 45,
   "metadata": {},
   "outputs": [
    {
     "name": "stdout",
     "output_type": "stream",
     "text": [
      "{'Ram': [9841326871, 9852348172, 9823476531], 'Shyam': [9849632497, 9818534721]}\n"
     ]
    }
   ],
   "source": [
    "d={'Ram': [9852348172, 9823476531], 'Shyam': [9849632497, 9818534721]}\n",
    "d[\"Ram\"].insert(0,9841326871)\n",
    "print(d)"
   ]
  },
  {
   "cell_type": "code",
   "execution_count": 53,
   "metadata": {},
   "outputs": [
    {
     "name": "stdout",
     "output_type": "stream",
     "text": [
      "Enter the value of search=Ram\n",
      "('Ram', [9841326871, 9852348172, 9823476531])\n",
      "('Shyam', [9849632497, 9818534721])\n"
     ]
    }
   ],
   "source": [
    "#search\n",
    "#del\n",
    "search=input(\"Enter the value of search=\")\n",
    "for i in d.items():\n",
    "        print([i][0])"
   ]
  },
  {
   "cell_type": "code",
   "execution_count": null,
   "metadata": {},
   "outputs": [],
   "source": []
  }
 ],
 "metadata": {
  "kernelspec": {
   "display_name": "Python 3",
   "language": "python",
   "name": "python3"
  },
  "language_info": {
   "codemirror_mode": {
    "name": "ipython",
    "version": 3
   },
   "file_extension": ".py",
   "mimetype": "text/x-python",
   "name": "python",
   "nbconvert_exporter": "python",
   "pygments_lexer": "ipython3",
   "version": "3.8.5"
  }
 },
 "nbformat": 4,
 "nbformat_minor": 4
}
