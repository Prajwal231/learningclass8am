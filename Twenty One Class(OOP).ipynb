{
 "cells": [
  {
   "cell_type": "code",
   "execution_count": 5,
   "metadata": {},
   "outputs": [
    {
     "name": "stdout",
     "output_type": "stream",
     "text": [
      "<class '__main__.Point'>\n",
      "<class '__main__.Point'>\n"
     ]
    }
   ],
   "source": [
    "class Point:\n",
    "    def __init__(self,x=0,y=0):\n",
    "        self.x=x\n",
    "        self.y=y\n",
    "        \n",
    "    def __str__(self):\n",
    "        return self.x,self.y\n",
    "    \n",
    "    \n",
    "p1= Point(2,3)\n",
    "p2= Point(-1,2)\n",
    "print(type(p1))\n",
    "print(type(p2))\n"
   ]
  },
  {
   "cell_type": "code",
   "execution_count": 6,
   "metadata": {},
   "outputs": [
    {
     "name": "stdout",
     "output_type": "stream",
     "text": [
      "1,5\n"
     ]
    }
   ],
   "source": [
    "class Point:\n",
    "    def __init__(self,x=0,y=0):\n",
    "        self.x=x\n",
    "        self.y=y\n",
    "        \n",
    "    def __str__(self):\n",
    "        return f\"{self.x},{self.y}\"\n",
    "    \n",
    "    def __add__(self,other):\n",
    "        x=self.x+ other.x\n",
    "        y=self.y+other.y\n",
    "        return Point(x,y)\n",
    "    \n",
    "    \n",
    "p1= Point(2,3)\n",
    "p2= Point(-1,2)\n",
    "print(p1+p2)\n"
   ]
  },
  {
   "cell_type": "code",
   "execution_count": 7,
   "metadata": {},
   "outputs": [
    {
     "name": "stdout",
     "output_type": "stream",
     "text": [
      "1,5,10\n"
     ]
    }
   ],
   "source": [
    "class Point:\n",
    "    def __init__(self,x=0,y=0,z=0):\n",
    "        self.x=x\n",
    "        self.y=y\n",
    "        self.z=z\n",
    "        \n",
    "    def __str__(self):\n",
    "        return f\"{self.x},{self.y},{self.z}\"\n",
    "    \n",
    "    def __add__(self,other):\n",
    "        x=self.x+ other.x\n",
    "        y=self.y+other.y\n",
    "        z=self.z+self.z\n",
    "        return Point(x,y,z)\n",
    "    \n",
    "    \n",
    "p1= Point(2,3,5)\n",
    "p2= Point(-1,2,3)\n",
    "print(p1+p2)\n"
   ]
  },
  {
   "cell_type": "code",
   "execution_count": 10,
   "metadata": {},
   "outputs": [
    {
     "name": "stdout",
     "output_type": "stream",
     "text": [
      "This is init method 2 3 5\n",
      "This is init method -1 2 3\n",
      "This is add method 1 5 10\n",
      "This is init method 1 5 10\n",
      "This is str method\n",
      "1,5,10\n"
     ]
    }
   ],
   "source": [
    "class Point:\n",
    "    def __init__(self,x=0,y=0,z=0):\n",
    "        self.x=x\n",
    "        self.y=y\n",
    "        self.z=z\n",
    "        print(\"This is init method\",self.x,self.y,self.z)\n",
    "        \n",
    "    def __str__(self):\n",
    "        print(\"This is str method\")\n",
    "        return f\"{self.x},{self.y},{self.z}\"\n",
    "    \n",
    "    def __add__(self,other):\n",
    "        x=self.x+ other.x\n",
    "        y=self.y+other.y\n",
    "        z=self.z+self.z\n",
    "        print(\"This is add method\",x,y,z)\n",
    "        return Point(x,y,z)\n",
    "    \n",
    "    \n",
    "p1= Point(2,3,5)\n",
    "p2= Point(-1,2,3)\n",
    "print(p1+p2)\n"
   ]
  },
  {
   "cell_type": "code",
   "execution_count": 13,
   "metadata": {},
   "outputs": [
    {
     "name": "stdout",
     "output_type": "stream",
     "text": [
      "Parrot can fly\n",
      "Penguin can't fly\n",
      "Parrot can't swim\n",
      "Penguin can swim\n"
     ]
    }
   ],
   "source": [
    "class Parrot:\n",
    "    def fly(self):\n",
    "        print(\"Parrot can fly\")\n",
    "    def swim(self):\n",
    "        print(\"Parrot can't swim\")\n",
    "class Penguin:\n",
    "    def fly(self):\n",
    "        print(\"Penguin can't fly\")\n",
    "    def swim(self):\n",
    "        print(\"Penguin can swim\")\n",
    "        \n",
    "blu=Parrot()\n",
    "peggy=Penguin()\n",
    "blu.fly()\n",
    "peggy.fly()\n",
    "\n",
    "blu.swim()\n",
    "peggy.swim()"
   ]
  },
  {
   "cell_type": "code",
   "execution_count": null,
   "metadata": {},
   "outputs": [],
   "source": []
  }
 ],
 "metadata": {
  "kernelspec": {
   "display_name": "Python 3",
   "language": "python",
   "name": "python3"
  },
  "language_info": {
   "codemirror_mode": {
    "name": "ipython",
    "version": 3
   },
   "file_extension": ".py",
   "mimetype": "text/x-python",
   "name": "python",
   "nbconvert_exporter": "python",
   "pygments_lexer": "ipython3",
   "version": "3.8.5"
  }
 },
 "nbformat": 4,
 "nbformat_minor": 4
}
