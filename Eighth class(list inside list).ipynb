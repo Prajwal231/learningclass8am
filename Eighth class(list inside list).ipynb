{
 "cells": [
  {
   "cell_type": "code",
   "execution_count": 1,
   "metadata": {},
   "outputs": [],
   "source": [
    "#list inside list"
   ]
  },
  {
   "cell_type": "code",
   "execution_count": 3,
   "metadata": {},
   "outputs": [
    {
     "name": "stdout",
     "output_type": "stream",
     "text": [
      "[[1, 2, 3], [4, 5, 6], [7, 8, 9]]\n"
     ]
    }
   ],
   "source": [
    "a=[[1,2,3],[4,5,6]]\n",
    "b=[[7,8,9]]\n",
    "print(a+b)"
   ]
  },
  {
   "cell_type": "code",
   "execution_count": 6,
   "metadata": {},
   "outputs": [
    {
     "name": "stdout",
     "output_type": "stream",
     "text": [
      "[[1, 2, 3], [4, 5, 6], [1, 2, 3], [4, 5, 6]]\n"
     ]
    }
   ],
   "source": [
    "a=[[1,2,3],[4,5,6]]\n",
    "print(a*2)"
   ]
  },
  {
   "cell_type": "code",
   "execution_count": 12,
   "metadata": {},
   "outputs": [
    {
     "name": "stdout",
     "output_type": "stream",
     "text": [
      "Enter n=2\n",
      "Enter name=Ram\n",
      "Enter age=17\n",
      "Enter address=KOteshwor\n",
      "Enter name=Shyam\n",
      "Enter age=42\n",
      "Enter address=PAtan\n",
      "[[1, 'Ram', '17', 'KOteshwor'], [2, 'Shyam', '42', 'PAtan']]\n"
     ]
    }
   ],
   "source": [
    "data=[]\n",
    "n=int(input(\"Enter n=\"))\n",
    "for i in range(1,n+1):\n",
    "    name=input(\"Enter name=\")\n",
    "    age=input(\"Enter age=\")\n",
    "    address=input(\"Enter address=\")\n",
    "    info=[[i,name,age,address]]\n",
    "    data=data+info\n",
    "print(data)"
   ]
  },
  {
   "cell_type": "code",
   "execution_count": 13,
   "metadata": {},
   "outputs": [
    {
     "name": "stdout",
     "output_type": "stream",
     "text": [
      "[1, 'Ram', '17', 'KOteshwor']\n",
      "[2, 'Shyam', '42', 'PAtan']\n"
     ]
    }
   ],
   "source": [
    "for i in data:\n",
    "    print(i)"
   ]
  },
  {
   "cell_type": "code",
   "execution_count": 14,
   "metadata": {},
   "outputs": [
    {
     "name": "stdout",
     "output_type": "stream",
     "text": [
      "Enter sn=1\n"
     ]
    },
    {
     "data": {
      "text/plain": [
       "[1, 'Ram', '17', 'KOteshwor']"
      ]
     },
     "execution_count": 14,
     "metadata": {},
     "output_type": "execute_result"
    }
   ],
   "source": [
    "sn=int(input(\"Enter sn=\"))\n",
    "data[sn-1]"
   ]
  },
  {
   "cell_type": "code",
   "execution_count": 15,
   "metadata": {},
   "outputs": [
    {
     "name": "stdout",
     "output_type": "stream",
     "text": [
      "No\n"
     ]
    }
   ],
   "source": [
    "if \"Ram\" in data:\n",
    "    print(\"Yes\")\n",
    "else:\n",
    "    print(\"No\")"
   ]
  },
  {
   "cell_type": "code",
   "execution_count": 17,
   "metadata": {},
   "outputs": [
    {
     "name": "stdout",
     "output_type": "stream",
     "text": [
      "Enter the value of search=Ram\n",
      "[1, 'Ram', '17', 'KOteshwor']\n",
      "Yes\n"
     ]
    }
   ],
   "source": [
    "search=input(\"Enter the value of search=\")\n",
    "for i in data:\n",
    "    if \"Ram\" in i:\n",
    "        print(i)\n",
    "        print(\"Yes\")\n",
    "        "
   ]
  },
  {
   "cell_type": "code",
   "execution_count": 22,
   "metadata": {},
   "outputs": [
    {
     "name": "stdout",
     "output_type": "stream",
     "text": [
      "Enter the value of search=Shyam\n",
      "[2, 'Shyam', '42', 'PAtan']\n"
     ]
    }
   ],
   "source": [
    "data=[1, 'Ram', '17', 'KOteshwor'], [2, 'Shyam', '42', 'PAtan'],[3,'Ram','17','Bhaktapur']\n",
    "search=input(\"Enter the value of search=\")\n",
    "for i in data:\n",
    "    if search in i:\n",
    "        print(i)"
   ]
  },
  {
   "cell_type": "code",
   "execution_count": 36,
   "metadata": {},
   "outputs": [
    {
     "name": "stdout",
     "output_type": "stream",
     "text": [
      "Enter the number of objects=2\n",
      "Enter name=Biscuit\n",
      "Enter price25\n",
      "Enter quantity=3\n",
      "Enter name=Rice\n",
      "Enter price1735\n",
      "Enter quantity=2\n",
      "[['Biscuit', 25, 3, 75], ['Rice', 1735, 2, 3470]]\n",
      "3545\n"
     ]
    }
   ],
   "source": [
    "data=[]\n",
    "grand_total=0\n",
    "n=int(input(\"Enter the number of objects=\"))\n",
    "for i in range(n):\n",
    "    name=input(\"Enter name=\")\n",
    "    price=int(input(\"Enter price\"))\n",
    "    quantity=int(input(\"Enter quantity=\"))\n",
    "    total=price*quantity\n",
    "    info=[[name,price,quantity,total]]\n",
    "    grand_total=grand_total+total\n",
    "    data=data+info\n",
    "    \n",
    "print(data)\n",
    "print(grand_total)"
   ]
  },
  {
   "cell_type": "markdown",
   "metadata": {},
   "source": [
    "## "
   ]
  },
  {
   "cell_type": "code",
   "execution_count": 38,
   "metadata": {},
   "outputs": [
    {
     "name": "stdout",
     "output_type": "stream",
     "text": [
      "Enter value for search=Rice\n",
      "[['Biscuit', 25, 3, 75]]\n"
     ]
    }
   ],
   "source": [
    "search=input(\"Enter value for search=\")\n",
    "for i in data:\n",
    "    if search in i:\n",
    "        data.remove(i)\n",
    "print(data)\n",
    "        "
   ]
  },
  {
   "cell_type": "code",
   "execution_count": 68,
   "metadata": {},
   "outputs": [
    {
     "name": "stdout",
     "output_type": "stream",
     "text": [
      "Enter new quantity=4\n",
      "Enter index=0\n"
     ]
    }
   ],
   "source": [
    "a=[[1,'Biscuit', 25, 3, 75], \n",
    "   [2,'Rice', 1735, 2, 3470]]\n",
    "q=int(input(\"Enter new quantity=\"))\n",
    "i=int(input(\"Enter index=\"))\n",
    "a[i][3]=q\n",
    "price=a[i][2]\n",
    "new_total=price*q\n",
    "a[i][4]=new_total\n"
   ]
  },
  {
   "cell_type": "code",
   "execution_count": 69,
   "metadata": {},
   "outputs": [
    {
     "data": {
      "text/plain": [
       "[[1, 'Biscuit', 25, 4, 100], [2, 'Rice', 1735, 2, 3470]]"
      ]
     },
     "execution_count": 69,
     "metadata": {},
     "output_type": "execute_result"
    }
   ],
   "source": [
    "a"
   ]
  },
  {
   "cell_type": "code",
   "execution_count": 72,
   "metadata": {},
   "outputs": [
    {
     "name": "stdout",
     "output_type": "stream",
     "text": [
      "Enter product name=Rice\n",
      "1\n"
     ]
    }
   ],
   "source": [
    "a=[[1,'Biscuit', 25, 3, 75], \n",
    "   [2,'Rice', 1735, 2, 3470]]\n",
    "search=input(\"Enter product name=\")\n",
    "for i in range(len(a)):\n",
    "    if search in a[i]:\n",
    "        index=i\n",
    "print(index)\n",
    "#q=int(input(\"Enter new quantity=\"))\n",
    "#i=int(input(\"Enter index=\"))\n",
    "#a[i][3]=q\n",
    "#price=a[i][2]\n",
    "#new_total=price*q\n",
    "#a[i][4]=new_total"
   ]
  },
  {
   "cell_type": "code",
   "execution_count": 7,
   "metadata": {},
   "outputs": [
    {
     "name": "stdout",
     "output_type": "stream",
     "text": [
      "Enter new quantity=5\n",
      "Enter index=0\n",
      "[[1, 'Biscuit', 25, 5, 125], [2, 'Rice', 1735, 2, 3470]]\n",
      "3595\n"
     ]
    }
   ],
   "source": [
    "b=[[1,'Biscuit', 25, 3, 75], \n",
    "   [2,'Rice', 1735, 2, 3470]]\n",
    "q=int(input(\"Enter new quantity=\"))\n",
    "i=int(input(\"Enter index=\"))\n",
    "b[i][3]=q\n",
    "price=b[i][2]\n",
    "new_total=price*q\n",
    "b[i][4]=new_total\n",
    "new_grand_total=b[i][4]+b[i+1][4]\n",
    "print(b)\n",
    "print(new_grand_total)"
   ]
  },
  {
   "cell_type": "code",
   "execution_count": 6,
   "metadata": {},
   "outputs": [
    {
     "name": "stdout",
     "output_type": "stream",
     "text": [
      "[[1, 'Biscuit', 25, 5, 125], [2, 'Rice', 1735, 2, 3470]]\n",
      "3595\n"
     ]
    }
   ],
   "source": [
    "print(b)\n",
    "print(new_grand_total)"
   ]
  },
  {
   "cell_type": "code",
   "execution_count": null,
   "metadata": {},
   "outputs": [],
   "source": []
  }
 ],
 "metadata": {
  "kernelspec": {
   "display_name": "Python 3",
   "language": "python",
   "name": "python3"
  },
  "language_info": {
   "codemirror_mode": {
    "name": "ipython",
    "version": 3
   },
   "file_extension": ".py",
   "mimetype": "text/x-python",
   "name": "python",
   "nbconvert_exporter": "python",
   "pygments_lexer": "ipython3",
   "version": "3.8.5"
  }
 },
 "nbformat": 4,
 "nbformat_minor": 4
}
