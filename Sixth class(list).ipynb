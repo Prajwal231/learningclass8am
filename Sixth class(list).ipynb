{
 "cells": [
  {
   "cell_type": "code",
   "execution_count": 1,
   "metadata": {},
   "outputs": [],
   "source": [
    "#list\n",
    "#tuple\n",
    "#dictionary\n",
    "#set"
   ]
  },
  {
   "cell_type": "code",
   "execution_count": 13,
   "metadata": {},
   "outputs": [],
   "source": [
    "#list\n",
    "#-indexing\n",
    "#-ordered\n",
    "#-duplicate\n",
    "#-mutuable"
   ]
  },
  {
   "cell_type": "code",
   "execution_count": 9,
   "metadata": {},
   "outputs": [
    {
     "name": "stdout",
     "output_type": "stream",
     "text": [
      "Apple\n",
      "Cat\n",
      "['Apple', 'Ball']\n",
      "['Apple', 'Cat']\n",
      "[1, 3, 5, 7]\n"
     ]
    }
   ],
   "source": [
    "#list indexing\n",
    "a=[\"Apple\",\"Ball\",\"Cat\"]\n",
    "b=[1,2,3,4,5,6,7]\n",
    "print(a[0])\n",
    "print(a[-1])\n",
    "print(a[0:2])\n",
    "print(a[0::2])\n",
    "print(b[0::2])"
   ]
  },
  {
   "cell_type": "code",
   "execution_count": 10,
   "metadata": {},
   "outputs": [
    {
     "name": "stdout",
     "output_type": "stream",
     "text": [
      "[]\n",
      "[]\n"
     ]
    }
   ],
   "source": [
    "#list ordering\n",
    "a=[]\n",
    "b=list()\n",
    "print(a)\n",
    "print(b)"
   ]
  },
  {
   "cell_type": "code",
   "execution_count": 12,
   "metadata": {},
   "outputs": [
    {
     "name": "stdout",
     "output_type": "stream",
     "text": [
      "['Apple', 'Ant']\n"
     ]
    }
   ],
   "source": [
    "a=[\"Ant\"]\n",
    "b=[\"Apple\"]\n",
    "print(b+a)"
   ]
  },
  {
   "cell_type": "code",
   "execution_count": 16,
   "metadata": {},
   "outputs": [
    {
     "name": "stdout",
     "output_type": "stream",
     "text": [
      "['Apple', 'Ball', 'Apple']\n"
     ]
    }
   ],
   "source": [
    "#list duplicate\n",
    "a=[\"Apple\",\"Ball\",\"Apple\"]\n",
    "print(a)"
   ]
  },
  {
   "cell_type": "code",
   "execution_count": 19,
   "metadata": {},
   "outputs": [
    {
     "name": "stdout",
     "output_type": "stream",
     "text": [
      "Enter the valueof n=5\n",
      "Enter the value of x=23\n",
      "Enter the value of x=67\n",
      "Enter the value of x=12\n",
      "Enter the value of x=17\n",
      "Enter the value of x=91\n",
      "The list = [23, 67, 12, 17, 91]\n",
      "The sum = 210\n",
      "The max value= 91\n",
      "The min value= 12\n"
     ]
    }
   ],
   "source": [
    "l=[]\n",
    "n=int(input(\"Enter the valueof n=\"))\n",
    "for i in range(n):\n",
    "    x=int(input(\"Enter the value of x=\"))\n",
    "    l=l+[x]\n",
    "print(\"The list =\",l)\n",
    "print(\"The sum =\",sum(l))\n",
    "print(\"The max value=\",max(l))\n",
    "print(\"The min value=\",min(l))\n"
   ]
  },
  {
   "cell_type": "code",
   "execution_count": 21,
   "metadata": {},
   "outputs": [
    {
     "name": "stdout",
     "output_type": "stream",
     "text": [
      "[23, 67, 12, 17, 91]\n",
      "[12, 17, 23, 67, 91]\n"
     ]
    }
   ],
   "source": [
    "print(l)\n",
    "l.sort()\n",
    "print(l)"
   ]
  },
  {
   "cell_type": "code",
   "execution_count": 24,
   "metadata": {},
   "outputs": [
    {
     "name": "stdout",
     "output_type": "stream",
     "text": [
      "[12, 17, 23, 67, 91]\n",
      "[91, 67, 23, 17, 12]\n"
     ]
    }
   ],
   "source": [
    "print(l)\n",
    "l.reverse()\n",
    "print(l)"
   ]
  },
  {
   "cell_type": "code",
   "execution_count": 27,
   "metadata": {},
   "outputs": [
    {
     "name": "stdout",
     "output_type": "stream",
     "text": [
      "['.Apple', '1Ball', 'XRay', 'Zebra']\n"
     ]
    }
   ],
   "source": [
    "a=[\".Apple\",\"Zebra\",\"1Ball\",\"XRay\"]\n",
    "a.sort()\n",
    "print(a)"
   ]
  },
  {
   "cell_type": "code",
   "execution_count": 28,
   "metadata": {},
   "outputs": [
    {
     "name": "stdout",
     "output_type": "stream",
     "text": [
      "[45, 45, 123, 234, 342]\n",
      "[123, 342, 45, 234, 45]\n"
     ]
    }
   ],
   "source": [
    "l=[123,342,45,234,45]\n",
    "a=sorted(l)\n",
    "print(a)\n",
    "print(l)"
   ]
  },
  {
   "cell_type": "code",
   "execution_count": 29,
   "metadata": {},
   "outputs": [
    {
     "name": "stdout",
     "output_type": "stream",
     "text": [
      "['Ant', 'Ball', 'cat']\n"
     ]
    }
   ],
   "source": [
    "a=[\"Apple\",\"Ball\",\"cat\"]\n",
    "a[0]=\"Ant\"\n",
    "print(a)"
   ]
  },
  {
   "cell_type": "code",
   "execution_count": 32,
   "metadata": {},
   "outputs": [
    {
     "name": "stdout",
     "output_type": "stream",
     "text": [
      "Apple\n",
      "Apple\n"
     ]
    }
   ],
   "source": [
    "a=[\"Apple\",\"Ball\",\"Cat\",\"Dog\",\"Apple\"]\n",
    "for i in a:\n",
    "    if i ==\"Apple\":\n",
    "        continue\n",
    "    print(i)"
   ]
  },
  {
   "cell_type": "code",
   "execution_count": 35,
   "metadata": {},
   "outputs": [
    {
     "name": "stdout",
     "output_type": "stream",
     "text": [
      "Apple\n",
      "Ball\n"
     ]
    }
   ],
   "source": [
    "a=[\"Apple\",\"Ball\",\"Cat\",\"Dog\",\"Apple\"]\n",
    "for i in a:\n",
    "    if i ==\"Cat\":\n",
    "        break\n",
    "    print(i)"
   ]
  },
  {
   "cell_type": "code",
   "execution_count": 39,
   "metadata": {},
   "outputs": [
    {
     "name": "stdout",
     "output_type": "stream",
     "text": [
      "Enter x=Apple\n",
      "Yes 2\n"
     ]
    }
   ],
   "source": [
    "a=[\"Apple\",\"Ball\",\"Cat\",\"Dog\",\"Apple\"]\n",
    "x=input(\"Enter x=\")\n",
    "if x in a:\n",
    "    print(\"Yes\",a.count(x))\n"
   ]
  },
  {
   "cell_type": "code",
   "execution_count": 47,
   "metadata": {},
   "outputs": [
    {
     "name": "stdout",
     "output_type": "stream",
     "text": [
      "Enter x=ball\n",
      "Yes\n",
      "1\n"
     ]
    }
   ],
   "source": [
    "#WAP from item search that might be in uppercase or lowercase\n",
    "a=[\"Apple\".upper(),\"Ball\".upper(),\"Cat\".upper(),\"Dog\".upper(),\"Apple\".upper()]\n",
    "x=input(\"Enter x=\").upper()\n",
    "if x in a:\n",
    "    print(\"Yes\")\n",
    "    print(a.count(x))\n"
   ]
  },
  {
   "cell_type": "code",
   "execution_count": 44,
   "metadata": {},
   "outputs": [
    {
     "name": "stdout",
     "output_type": "stream",
     "text": [
      "Enter x=Apple\n",
      "yes 0\n",
      "yes 4\n"
     ]
    }
   ],
   "source": [
    "a=[\"Apple\",\"Ball\",\"Cat\",\"Dog\",\"Apple\"]\n",
    "x=input(\"Enter x=\")\n",
    "n=len(a)\n",
    "for i in range(n):\n",
    "    if x==a[i]:\n",
    "        print(\"yes\",i)"
   ]
  },
  {
   "cell_type": "code",
   "execution_count": null,
   "metadata": {},
   "outputs": [],
   "source": []
  }
 ],
 "metadata": {
  "kernelspec": {
   "display_name": "Python 3",
   "language": "python",
   "name": "python3"
  },
  "language_info": {
   "codemirror_mode": {
    "name": "ipython",
    "version": 3
   },
   "file_extension": ".py",
   "mimetype": "text/x-python",
   "name": "python",
   "nbconvert_exporter": "python",
   "pygments_lexer": "ipython3",
   "version": "3.8.5"
  }
 },
 "nbformat": 4,
 "nbformat_minor": 4
}
