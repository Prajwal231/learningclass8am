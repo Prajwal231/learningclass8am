{
 "cells": [
  {
   "cell_type": "code",
   "execution_count": 1,
   "metadata": {},
   "outputs": [],
   "source": [
    "#file"
   ]
  },
  {
   "cell_type": "code",
   "execution_count": 2,
   "metadata": {},
   "outputs": [],
   "source": [
    "#b=open('<File Name>',<modes>)"
   ]
  },
  {
   "cell_type": "code",
   "execution_count": 4,
   "metadata": {},
   "outputs": [
    {
     "name": "stdout",
     "output_type": "stream",
     "text": [
      "The file already exists.\n"
     ]
    }
   ],
   "source": [
    "try:\n",
    "    b=open('class8am.txt','x')\n",
    "except:\n",
    "    print(\"The file already exists.\")\n",
    "b.close()"
   ]
  },
  {
   "cell_type": "code",
   "execution_count": 5,
   "metadata": {},
   "outputs": [
    {
     "name": "stdout",
     "output_type": "stream",
     "text": [
      "Hello World\n",
      "Hello World \n",
      "Hello World\n",
      "HEllo World\n",
      "Hello World\n"
     ]
    }
   ],
   "source": [
    "b=open('class8am.txt','r')\n",
    "print(b.read())\n",
    "b.close()"
   ]
  },
  {
   "cell_type": "code",
   "execution_count": 6,
   "metadata": {},
   "outputs": [
    {
     "name": "stdout",
     "output_type": "stream",
     "text": [
      "Hello Worl\n"
     ]
    }
   ],
   "source": [
    "b=open('class8am.txt','r')\n",
    "print(b.read(10))\n",
    "b.close()"
   ]
  },
  {
   "cell_type": "code",
   "execution_count": 8,
   "metadata": {},
   "outputs": [
    {
     "name": "stdout",
     "output_type": "stream",
     "text": [
      "<class 'str'>\n",
      "Hello World\n",
      "Hello World \n",
      "Hello World\n",
      "HEllo World\n",
      "Hello World\n"
     ]
    }
   ],
   "source": [
    "b=open('class8am.txt','r')\n",
    "c=b.read()\n",
    "print(type(c))\n",
    "print(c)\n",
    "b.close()"
   ]
  },
  {
   "cell_type": "code",
   "execution_count": 9,
   "metadata": {},
   "outputs": [],
   "source": [
    "b=open('class8am.txt','a')\n",
    "b.write('7.Hello World')\n",
    "b.close()"
   ]
  },
  {
   "cell_type": "code",
   "execution_count": 11,
   "metadata": {},
   "outputs": [
    {
     "name": "stdout",
     "output_type": "stream",
     "text": [
      "Enterthe value of n=2\n",
      "Enter Name=Ram\n",
      "Enter age=18\n",
      "Enter address=Koteshwor\n",
      "Enter Name=Shyam\n",
      "Enter age=21\n",
      "Enter address=Tinkune\n"
     ]
    }
   ],
   "source": [
    "s=\"\"\n",
    "n=int(input(\"Enterthe value of n=\"))\n",
    "for i in range(n):\n",
    "    name=input(\"Enter Name=\")\n",
    "    age=int(input(\"Enter age=\"))\n",
    "    add=input(\"Enter address=\")\n",
    "    info=f\"{name} {age} {add}\\n\"\n",
    "    s=s+info\n",
    "b=open('data.txt','a')\n",
    "b.write(s)\n",
    "b.close()"
   ]
  },
  {
   "cell_type": "code",
   "execution_count": 12,
   "metadata": {},
   "outputs": [
    {
     "name": "stdout",
     "output_type": "stream",
     "text": [
      "Enterthe value of n=2\n",
      "Enter Name=ram\n",
      "Enter age=21\n",
      "Enter address=Koteshwor\n",
      "Enter Name=Shyam\n",
      "Enter age=22\n",
      "Enter address=Tinkune\n"
     ]
    }
   ],
   "source": [
    "s=\"\"\n",
    "n=int(input(\"Enterthe value of n=\"))\n",
    "for i in range(n):\n",
    "    name=input(\"Enter Name=\")\n",
    "    age=int(input(\"Enter age=\"))\n",
    "    add=input(\"Enter address=\")\n",
    "    info=f\"{name},{age} ,{add}\\n\"\n",
    "    s=s+info\n",
    "b=open('data.csv','a')\n",
    "b.write(s)\n",
    "b.close()"
   ]
  },
  {
   "cell_type": "code",
   "execution_count": 22,
   "metadata": {},
   "outputs": [
    {
     "name": "stdout",
     "output_type": "stream",
     "text": [
      "Enter the value of n=4\n",
      "Enter Name=ram\n",
      "Enter age=21\n",
      "Enter address=Kathmandu\n",
      "Enter Name=shyam\n",
      "Enter age=22\n",
      "Enter address=Patan\n",
      "Enter Name=hari\n",
      "Enter age=20\n",
      "Enter address=Bhaktapur\n",
      "Enter Name=krishna\n",
      "Enter age=22\n",
      "Enter address=Imadol\n"
     ]
    }
   ],
   "source": [
    "s=\"\"\n",
    "b=open('data.csv','w')\n",
    "n=int(input(\"Enter the value of n=\"))\n",
    "for i in range(n):\n",
    "    name=input(\"Enter Name=\")\n",
    "    age=int(input(\"Enter age=\"))\n",
    "    add=input(\"Enter address=\")\n",
    "    info=f\"{name},{age} ,{add}\\n\"\n",
    "    s=s+info\n",
    "\n",
    "b.write(s)\n",
    "b.close()"
   ]
  },
  {
   "cell_type": "code",
   "execution_count": 23,
   "metadata": {},
   "outputs": [
    {
     "name": "stdout",
     "output_type": "stream",
     "text": [
      "ram,21 ,Kathmandu\n",
      "shyam,22 ,Patan\n",
      "hari,20 ,Bhaktapur\n",
      "krishna,22 ,Imadol\n",
      "\n"
     ]
    }
   ],
   "source": [
    "b=open('data.csv','r')\n",
    "c=b.read()\n",
    "print(c)\n",
    "b.close()"
   ]
  },
  {
   "cell_type": "code",
   "execution_count": 24,
   "metadata": {},
   "outputs": [
    {
     "name": "stdout",
     "output_type": "stream",
     "text": [
      "['ram,21 ,Kathmandu', 'shyam,22 ,Patan', 'hari,20 ,Bhaktapur', 'krishna,22 ,Imadol', '']\n",
      "['ram,21 ,Kathmandu', 'shyam,22 ,Patan', 'hari,20 ,Bhaktapur', 'krishna,22 ,Imadol']\n"
     ]
    }
   ],
   "source": [
    "d=c.split('\\n')\n",
    "print(d)\n",
    "e=d[0:-1]\n",
    "print(e)"
   ]
  },
  {
   "cell_type": "code",
   "execution_count": 26,
   "metadata": {},
   "outputs": [
    {
     "name": "stdout",
     "output_type": "stream",
     "text": [
      "[['ram', '21 ', 'Kathmandu'], ['shyam', '22 ', 'Patan'], ['hari', '20 ', 'Bhaktapur'], ['krishna', '22 ', 'Imadol']]\n"
     ]
    }
   ],
   "source": [
    "data=[]\n",
    "for i in e:\n",
    "    x=i.split(',')\n",
    "    data.append(x)\n",
    "print(data)"
   ]
  },
  {
   "cell_type": "code",
   "execution_count": 29,
   "metadata": {},
   "outputs": [
    {
     "name": "stdout",
     "output_type": "stream",
     "text": [
      "Enter the value of n=4\n",
      "Enter Name=Biscuit\n",
      "Enter quantity=4\n",
      "Enter price=20\n",
      "Enter Name=Colgate\n",
      "Enter quantity=1\n",
      "Enter price=110\n",
      "Enter Name=Rice\n",
      "Enter quantity=2\n",
      "Enter price=1750\n",
      "Enter Name=Pespsi\n",
      "Enter quantity=2\n",
      "Enter price=180\n"
     ]
    }
   ],
   "source": [
    "s=\"\"\n",
    "b=open('bill.csv','w')\n",
    "n=int(input(\"Enter the value of n=\"))\n",
    "for i in range(n):\n",
    "    name=input(\"Enter Name=\")\n",
    "    quantity=int(input(\"Enter quantity=\"))\n",
    "    price=int(input(\"Enter price=\"))\n",
    "    total_price=price*quantity\n",
    "    info=f\"{name},{quantity},{price},{total_price}\\n\"\n",
    "    s=s+info\n",
    "\n",
    "b.write(s)\n",
    "b.close()"
   ]
  },
  {
   "cell_type": "code",
   "execution_count": 30,
   "metadata": {},
   "outputs": [
    {
     "name": "stdout",
     "output_type": "stream",
     "text": [
      "there is no such file.\n"
     ]
    }
   ],
   "source": [
    "import os\n",
    "try:\n",
    "    os.remove('data.csv')\n",
    "except:\n",
    "    print(\"there is no such file.\")"
   ]
  },
  {
   "cell_type": "code",
   "execution_count": 31,
   "metadata": {},
   "outputs": [
    {
     "ename": "FileNotFoundError",
     "evalue": "[Errno 2] No such file or directory: 'data/my_data.txt'",
     "output_type": "error",
     "traceback": [
      "\u001b[1;31m---------------------------------------------------------------------------\u001b[0m",
      "\u001b[1;31mFileNotFoundError\u001b[0m                         Traceback (most recent call last)",
      "\u001b[1;32m<ipython-input-31-649be7145d8d>\u001b[0m in \u001b[0;36m<module>\u001b[1;34m\u001b[0m\n\u001b[0;32m      2\u001b[0m \u001b[0msrc\u001b[0m\u001b[1;33m=\u001b[0m\u001b[1;34m'data.txt'\u001b[0m\u001b[1;33m\u001b[0m\u001b[1;33m\u001b[0m\u001b[0m\n\u001b[0;32m      3\u001b[0m \u001b[0mdest\u001b[0m\u001b[1;33m=\u001b[0m\u001b[1;34m'data/my_data.txt'\u001b[0m\u001b[1;33m\u001b[0m\u001b[1;33m\u001b[0m\u001b[0m\n\u001b[1;32m----> 4\u001b[1;33m \u001b[0ms\u001b[0m\u001b[1;33m.\u001b[0m\u001b[0mcopy\u001b[0m\u001b[1;33m(\u001b[0m\u001b[0msrc\u001b[0m\u001b[1;33m,\u001b[0m\u001b[0mdest\u001b[0m\u001b[1;33m)\u001b[0m\u001b[1;33m\u001b[0m\u001b[1;33m\u001b[0m\u001b[0m\n\u001b[0m",
      "\u001b[1;32m~\\anaconda3\\lib\\shutil.py\u001b[0m in \u001b[0;36mcopy\u001b[1;34m(src, dst, follow_symlinks)\u001b[0m\n\u001b[0;32m    413\u001b[0m     \u001b[1;32mif\u001b[0m \u001b[0mos\u001b[0m\u001b[1;33m.\u001b[0m\u001b[0mpath\u001b[0m\u001b[1;33m.\u001b[0m\u001b[0misdir\u001b[0m\u001b[1;33m(\u001b[0m\u001b[0mdst\u001b[0m\u001b[1;33m)\u001b[0m\u001b[1;33m:\u001b[0m\u001b[1;33m\u001b[0m\u001b[1;33m\u001b[0m\u001b[0m\n\u001b[0;32m    414\u001b[0m         \u001b[0mdst\u001b[0m \u001b[1;33m=\u001b[0m \u001b[0mos\u001b[0m\u001b[1;33m.\u001b[0m\u001b[0mpath\u001b[0m\u001b[1;33m.\u001b[0m\u001b[0mjoin\u001b[0m\u001b[1;33m(\u001b[0m\u001b[0mdst\u001b[0m\u001b[1;33m,\u001b[0m \u001b[0mos\u001b[0m\u001b[1;33m.\u001b[0m\u001b[0mpath\u001b[0m\u001b[1;33m.\u001b[0m\u001b[0mbasename\u001b[0m\u001b[1;33m(\u001b[0m\u001b[0msrc\u001b[0m\u001b[1;33m)\u001b[0m\u001b[1;33m)\u001b[0m\u001b[1;33m\u001b[0m\u001b[1;33m\u001b[0m\u001b[0m\n\u001b[1;32m--> 415\u001b[1;33m     \u001b[0mcopyfile\u001b[0m\u001b[1;33m(\u001b[0m\u001b[0msrc\u001b[0m\u001b[1;33m,\u001b[0m \u001b[0mdst\u001b[0m\u001b[1;33m,\u001b[0m \u001b[0mfollow_symlinks\u001b[0m\u001b[1;33m=\u001b[0m\u001b[0mfollow_symlinks\u001b[0m\u001b[1;33m)\u001b[0m\u001b[1;33m\u001b[0m\u001b[1;33m\u001b[0m\u001b[0m\n\u001b[0m\u001b[0;32m    416\u001b[0m     \u001b[0mcopymode\u001b[0m\u001b[1;33m(\u001b[0m\u001b[0msrc\u001b[0m\u001b[1;33m,\u001b[0m \u001b[0mdst\u001b[0m\u001b[1;33m,\u001b[0m \u001b[0mfollow_symlinks\u001b[0m\u001b[1;33m=\u001b[0m\u001b[0mfollow_symlinks\u001b[0m\u001b[1;33m)\u001b[0m\u001b[1;33m\u001b[0m\u001b[1;33m\u001b[0m\u001b[0m\n\u001b[0;32m    417\u001b[0m     \u001b[1;32mreturn\u001b[0m \u001b[0mdst\u001b[0m\u001b[1;33m\u001b[0m\u001b[1;33m\u001b[0m\u001b[0m\n",
      "\u001b[1;32m~\\anaconda3\\lib\\shutil.py\u001b[0m in \u001b[0;36mcopyfile\u001b[1;34m(src, dst, follow_symlinks)\u001b[0m\n\u001b[0;32m    259\u001b[0m         \u001b[0mos\u001b[0m\u001b[1;33m.\u001b[0m\u001b[0msymlink\u001b[0m\u001b[1;33m(\u001b[0m\u001b[0mos\u001b[0m\u001b[1;33m.\u001b[0m\u001b[0mreadlink\u001b[0m\u001b[1;33m(\u001b[0m\u001b[0msrc\u001b[0m\u001b[1;33m)\u001b[0m\u001b[1;33m,\u001b[0m \u001b[0mdst\u001b[0m\u001b[1;33m)\u001b[0m\u001b[1;33m\u001b[0m\u001b[1;33m\u001b[0m\u001b[0m\n\u001b[0;32m    260\u001b[0m     \u001b[1;32melse\u001b[0m\u001b[1;33m:\u001b[0m\u001b[1;33m\u001b[0m\u001b[1;33m\u001b[0m\u001b[0m\n\u001b[1;32m--> 261\u001b[1;33m         \u001b[1;32mwith\u001b[0m \u001b[0mopen\u001b[0m\u001b[1;33m(\u001b[0m\u001b[0msrc\u001b[0m\u001b[1;33m,\u001b[0m \u001b[1;34m'rb'\u001b[0m\u001b[1;33m)\u001b[0m \u001b[1;32mas\u001b[0m \u001b[0mfsrc\u001b[0m\u001b[1;33m,\u001b[0m \u001b[0mopen\u001b[0m\u001b[1;33m(\u001b[0m\u001b[0mdst\u001b[0m\u001b[1;33m,\u001b[0m \u001b[1;34m'wb'\u001b[0m\u001b[1;33m)\u001b[0m \u001b[1;32mas\u001b[0m \u001b[0mfdst\u001b[0m\u001b[1;33m:\u001b[0m\u001b[1;33m\u001b[0m\u001b[1;33m\u001b[0m\u001b[0m\n\u001b[0m\u001b[0;32m    262\u001b[0m             \u001b[1;31m# macOS\u001b[0m\u001b[1;33m\u001b[0m\u001b[1;33m\u001b[0m\u001b[1;33m\u001b[0m\u001b[0m\n\u001b[0;32m    263\u001b[0m             \u001b[1;32mif\u001b[0m \u001b[0m_HAS_FCOPYFILE\u001b[0m\u001b[1;33m:\u001b[0m\u001b[1;33m\u001b[0m\u001b[1;33m\u001b[0m\u001b[0m\n",
      "\u001b[1;31mFileNotFoundError\u001b[0m: [Errno 2] No such file or directory: 'data/my_data.txt'"
     ]
    }
   ],
   "source": [
    "import shutil as s\n",
    "src='data.txt'\n",
    "dest='data/my_data.txt'\n",
    "s.copy(src,dest)"
   ]
  },
  {
   "cell_type": "code",
   "execution_count": null,
   "metadata": {},
   "outputs": [],
   "source": []
  }
 ],
 "metadata": {
  "kernelspec": {
   "display_name": "Python 3",
   "language": "python",
   "name": "python3"
  },
  "language_info": {
   "codemirror_mode": {
    "name": "ipython",
    "version": 3
   },
   "file_extension": ".py",
   "mimetype": "text/x-python",
   "name": "python",
   "nbconvert_exporter": "python",
   "pygments_lexer": "ipython3",
   "version": "3.8.5"
  }
 },
 "nbformat": 4,
 "nbformat_minor": 4
}
