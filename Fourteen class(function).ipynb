{
 "cells": [
  {
   "cell_type": "code",
   "execution_count": 6,
   "metadata": {},
   "outputs": [
    {
     "name": "stdout",
     "output_type": "stream",
     "text": [
      "Hello World\n"
     ]
    }
   ],
   "source": [
    "#function without argument and return type\n",
    "def hello():\n",
    "    return\"Hello World\"\n",
    "    \n",
    "print(hello())"
   ]
  },
  {
   "cell_type": "code",
   "execution_count": 8,
   "metadata": {},
   "outputs": [
    {
     "name": "stdout",
     "output_type": "stream",
     "text": [
      "600\n"
     ]
    }
   ],
   "source": [
    "#function without argument and return type\n",
    "def cal():\n",
    "    l=20\n",
    "    b=30\n",
    "    a=l*b\n",
    "    return a\n",
    "\n",
    "print(cal())"
   ]
  },
  {
   "cell_type": "code",
   "execution_count": 11,
   "metadata": {},
   "outputs": [
    {
     "name": "stdout",
     "output_type": "stream",
     "text": [
      "Enter the value of l=10\n",
      "Enter the value of b=17\n",
      "The area is 170\n"
     ]
    }
   ],
   "source": [
    "#function without argument and return type\n",
    "def cal():\n",
    "    l=int(input(\"Enter the value of l=\"))\n",
    "    b=int(input(\"Enter the value of b=\"))\n",
    "    a=l*b\n",
    "    return a\n",
    "\n",
    "ar=cal()\n",
    "print(\"The area is\",ar)\n"
   ]
  },
  {
   "cell_type": "code",
   "execution_count": 12,
   "metadata": {},
   "outputs": [
    {
     "name": "stdout",
     "output_type": "stream",
     "text": [
      "Enter the value of l=10\n",
      "Enter the value of b=7\n",
      "The area is 70\n",
      "Enter the value of h=21\n",
      "The volume is 1470\n"
     ]
    }
   ],
   "source": [
    "#function without argument and return type\n",
    "def cal():\n",
    "    l=int(input(\"Enter the value of l=\"))\n",
    "    b=int(input(\"Enter the value of b=\"))\n",
    "    a=l*b\n",
    "    return a\n",
    "\n",
    "ar=cal()\n",
    "print(\"The area is\",ar)\n",
    "h=int(input(\"Enter the value of h=\"))\n",
    "v=ar*h\n",
    "print(\"The volume is\",v)"
   ]
  },
  {
   "cell_type": "code",
   "execution_count": 15,
   "metadata": {},
   "outputs": [
    {
     "name": "stdout",
     "output_type": "stream",
     "text": [
      "Enter the value of l=10\n",
      "Enter the value of b=7\n",
      "Enter the value of h=15\n",
      "The area is 70\n",
      "The volume is 1050\n"
     ]
    }
   ],
   "source": [
    "#function without argument and return type\n",
    "def cal():\n",
    "    l=int(input(\"Enter the value of l=\"))\n",
    "    b=int(input(\"Enter the value of b=\"))\n",
    "    h=int(input(\"Enter the value of h=\"))\n",
    "    a=l*b\n",
    "    v=a*h\n",
    "    return a,v\n",
    "\n",
    "area, volume=cal()\n",
    "print(\"The area is\",area)\n",
    "print(\"The volume is\",volume)"
   ]
  },
  {
   "cell_type": "code",
   "execution_count": 17,
   "metadata": {},
   "outputs": [
    {
     "name": "stdout",
     "output_type": "stream",
     "text": [
      "Enter the value of l=10\n",
      "Enter the value of b=7\n",
      "Enter the value of h=15\n",
      "The area is 70\n",
      "The area is 1050\n"
     ]
    }
   ],
   "source": [
    "def cal():\n",
    "    l=int(input(\"Enter the value of l=\"))\n",
    "    b=int(input(\"Enter the value of b=\"))\n",
    "    h=int(input(\"Enter the value of h=\"))\n",
    "    a=l*b\n",
    "    v=a*h\n",
    "    d={\"Area\":a,\"Volume\":v}\n",
    "    return d\n",
    "\n",
    "value=cal()\n",
    "area=value['Area']\n",
    "volume=value['Volume']\n",
    "print(\"The area is\",area)\n",
    "print(\"The area is\",volume)"
   ]
  },
  {
   "cell_type": "code",
   "execution_count": 18,
   "metadata": {},
   "outputs": [
    {
     "name": "stdout",
     "output_type": "stream",
     "text": [
      "Enter the value of l=10\n",
      "Enter the value of b=7\n",
      "Enter the value of h=15\n",
      "{'Area': 70, 'Volume': 1050}\n"
     ]
    }
   ],
   "source": [
    "def cal():\n",
    "    l=int(input(\"Enter the value of l=\"))\n",
    "    b=int(input(\"Enter the value of b=\"))\n",
    "    h=int(input(\"Enter the value of h=\"))\n",
    "    a=l*b\n",
    "    v=a*h\n",
    "    d={\"Area\":a,\"Volume\":v}\n",
    "    return d\n",
    "\n",
    "print(cal())"
   ]
  },
  {
   "cell_type": "code",
   "execution_count": 23,
   "metadata": {},
   "outputs": [
    {
     "name": "stdout",
     "output_type": "stream",
     "text": [
      "HelloWorld\n"
     ]
    }
   ],
   "source": [
    "#function with argument and return type\n",
    "def hello(x,y):\n",
    "    z=x+y\n",
    "    return z\n",
    "\n",
    "print(hello(\"Hello\",\"World\"))"
   ]
  },
  {
   "cell_type": "code",
   "execution_count": 24,
   "metadata": {},
   "outputs": [
    {
     "name": "stdout",
     "output_type": "stream",
     "text": [
      "Enter the value of l=10\n",
      "Enter the value of b=7\n",
      "Enter the value of h=15\n",
      "The area is 70\n",
      "The volume is 1050\n"
     ]
    }
   ],
   "source": [
    "def cal(l,b,h):\n",
    "    a=l*b\n",
    "    v=l*b*h\n",
    "    return a,v\n",
    "\n",
    "l=int(input(\"Enter the value of l=\"))\n",
    "b=int(input(\"Enter the value of b=\"))\n",
    "h=int(input(\"Enter the value of h=\"))\n",
    "\n",
    "area,volume=cal(l,b,h)\n",
    "print(\"The area is\",area)\n",
    "print(\"The volume is\",volume)"
   ]
  },
  {
   "cell_type": "code",
   "execution_count": 25,
   "metadata": {},
   "outputs": [
    {
     "name": "stdout",
     "output_type": "stream",
     "text": [
      "Enter the value of l=10\n",
      "Enter the value of b=7\n",
      "Enter the value of h=15\n",
      "The area is 70\n",
      "The volume is 1050\n"
     ]
    }
   ],
   "source": [
    "def cal(l,b,h):\n",
    "    a=l*b\n",
    "    v=l*b*h\n",
    "    return a,v\n",
    "\n",
    "l=int(input(\"Enter the value of l=\"))\n",
    "b=int(input(\"Enter the value of b=\"))\n",
    "h=int(input(\"Enter the value of h=\"))\n",
    "\n",
    "z=cal(l,b,h)\n",
    "print(\"The area is\",z[0])\n",
    "print(\"The volume is\",z[1])"
   ]
  },
  {
   "cell_type": "code",
   "execution_count": 27,
   "metadata": {},
   "outputs": [
    {
     "name": "stdout",
     "output_type": "stream",
     "text": [
      "Enter the value of l=10\n",
      "Enter the value of b=20\n",
      "Enter the value of h=30\n",
      "The area is 200\n",
      "The volume is 6000\n"
     ]
    }
   ],
   "source": [
    "def area(l,b):\n",
    "    a=l*b\n",
    "    return a\n",
    "\n",
    "def volume(l,b,h):\n",
    "    v=area(l,b)*h\n",
    "    return v\n",
    "\n",
    "l=int(input(\"Enter the value of l=\"))\n",
    "b=int(input(\"Enter the value of b=\"))\n",
    "h=int(input(\"Enter the value of h=\"))\n",
    "ar=area(l,b)\n",
    "vo=volume(l,b,h)\n",
    "print(\"The area is\",ar)\n",
    "print(\"The volume is\",vo)"
   ]
  },
  {
   "cell_type": "code",
   "execution_count": 32,
   "metadata": {},
   "outputs": [
    {
     "name": "stdout",
     "output_type": "stream",
     "text": [
      "Enter a=10\n",
      "Enter b=3\n",
      "Enter + - * /*\n",
      "30\n"
     ]
    }
   ],
   "source": [
    "def add(a,b):\n",
    "    return a+b\n",
    "def sub(a,b):\n",
    "    return a-b\n",
    "def mul(a,b):\n",
    "    return a*b\n",
    "def div(a,b):\n",
    "    return a/b\n",
    "def cal():\n",
    "    a=int(input(\"Enter a=\"))\n",
    "    b=int(input(\"Enter b=\"))\n",
    "    o=input(\"Enter + - * /\")\n",
    "    if o=='+':\n",
    "        print(add(a,b))\n",
    "    elif o=='-':\n",
    "        print(sub(a,b))\n",
    "    elif o=='*':\n",
    "        print(mul(a,b))\n",
    "    elif o=='/':\n",
    "        print(div(a,b))\n",
    "    else:\n",
    "        print(\"Invalid operator\")\n",
    "        \n",
    "cal()"
   ]
  },
  {
   "cell_type": "code",
   "execution_count": 36,
   "metadata": {},
   "outputs": [
    {
     "name": "stdout",
     "output_type": "stream",
     "text": [
      "Ram\n",
      "56\n",
      "Kathmandu\n"
     ]
    }
   ],
   "source": [
    "def lists(l):\n",
    "    for i in l:\n",
    "        print(i)\n",
    "\n",
    "        \n",
    "l=[\"Ram\",\"56\",\"Kathmandu\"]\n",
    "lists(l)"
   ]
  },
  {
   "cell_type": "code",
   "execution_count": 41,
   "metadata": {},
   "outputs": [],
   "source": [
    "def lists(l):\n",
    "    name=l[\"name\"]\n",
    "    age=l[\"age\"]\n",
    "    address=l[\"add\"]\n",
    "\n",
    "        \n",
    "l={\"name\":\"Ram\",\"age\":56,\"add\":\"Kathmandu\"}\n",
    "lists(l)"
   ]
  },
  {
   "cell_type": "code",
   "execution_count": null,
   "metadata": {},
   "outputs": [],
   "source": []
  }
 ],
 "metadata": {
  "kernelspec": {
   "display_name": "Python 3",
   "language": "python",
   "name": "python3"
  },
  "language_info": {
   "codemirror_mode": {
    "name": "ipython",
    "version": 3
   },
   "file_extension": ".py",
   "mimetype": "text/x-python",
   "name": "python",
   "nbconvert_exporter": "python",
   "pygments_lexer": "ipython3",
   "version": "3.8.5"
  }
 },
 "nbformat": 4,
 "nbformat_minor": 4
}
