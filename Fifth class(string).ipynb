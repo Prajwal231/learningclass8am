{
 "cells": [
  {
   "cell_type": "code",
   "execution_count": 2,
   "metadata": {},
   "outputs": [
    {
     "name": "stdout",
     "output_type": "stream",
     "text": [
      "<class 'str'>\n",
      "Hello World\n"
     ]
    }
   ],
   "source": [
    "a=\"Hello World\"\n",
    "print(type(a))\n",
    "print(a)"
   ]
  },
  {
   "cell_type": "code",
   "execution_count": 8,
   "metadata": {},
   "outputs": [
    {
     "name": "stdout",
     "output_type": "stream",
     "text": [
      "r\n"
     ]
    }
   ],
   "source": [
    "print(a[8])"
   ]
  },
  {
   "cell_type": "code",
   "execution_count": 5,
   "metadata": {},
   "outputs": [
    {
     "name": "stdout",
     "output_type": "stream",
     "text": [
      "Hello\n"
     ]
    }
   ],
   "source": [
    "print(a[0:5])"
   ]
  },
  {
   "cell_type": "code",
   "execution_count": 6,
   "metadata": {},
   "outputs": [
    {
     "name": "stdout",
     "output_type": "stream",
     "text": [
      " World\n"
     ]
    }
   ],
   "source": [
    "print(a[5:])"
   ]
  },
  {
   "cell_type": "code",
   "execution_count": 9,
   "metadata": {},
   "outputs": [
    {
     "data": {
      "text/plain": [
       "'HloWrd'"
      ]
     },
     "execution_count": 9,
     "metadata": {},
     "output_type": "execute_result"
    }
   ],
   "source": [
    "a=\"Hello World\"\n",
    "a[0::2]"
   ]
  },
  {
   "cell_type": "code",
   "execution_count": 10,
   "metadata": {},
   "outputs": [
    {
     "data": {
      "text/plain": [
       "'dlroW olleH'"
      ]
     },
     "execution_count": 10,
     "metadata": {},
     "output_type": "execute_result"
    }
   ],
   "source": [
    "a=\"Hello World\"\n",
    "b=len(a)\n",
    "a[b::-1]"
   ]
  },
  {
   "cell_type": "code",
   "execution_count": 12,
   "metadata": {},
   "outputs": [
    {
     "name": "stdout",
     "output_type": "stream",
     "text": [
      "helloworld\n"
     ]
    }
   ],
   "source": [
    "a=\"hello\"\n",
    "b=\"world\"\n",
    "print(a+b)"
   ]
  },
  {
   "cell_type": "code",
   "execution_count": 13,
   "metadata": {},
   "outputs": [],
   "source": [
    "#search\n",
    "#string formatting\n",
    "#split\n",
    "#replace"
   ]
  },
  {
   "cell_type": "code",
   "execution_count": 19,
   "metadata": {},
   "outputs": [
    {
     "name": "stdout",
     "output_type": "stream",
     "text": [
      "Enter the value for search=Ram\n",
      "yes\n",
      "2\n"
     ]
    }
   ],
   "source": [
    "#search\n",
    "a=\"Ram Shyam Hari Ram Neha\"\n",
    "search=input(\"Enter the value for search=\")\n",
    "if search in a:\n",
    "    print(\"yes\")\n",
    "    print(a.count(search))\n",
    "else:\n",
    "    print(\"no\")"
   ]
  },
  {
   "cell_type": "code",
   "execution_count": 18,
   "metadata": {},
   "outputs": [
    {
     "data": {
      "text/plain": [
       "2"
      ]
     },
     "execution_count": 18,
     "metadata": {},
     "output_type": "execute_result"
    }
   ],
   "source": [
    "#search with count\n",
    "a=\"Ram Shyam Hari Ram Neha\"\n",
    "a.count(\"Ram\")"
   ]
  },
  {
   "cell_type": "code",
   "execution_count": 20,
   "metadata": {},
   "outputs": [
    {
     "name": "stdout",
     "output_type": "stream",
     "text": [
      "ram Shyam Hari ram Neha\n"
     ]
    }
   ],
   "source": [
    "#string with replace\n",
    "a=\"Ram Shyam Hari Ram Neha\"\n",
    "b=a.replace(\"Ram\",\"ram\")\n",
    "print(b)"
   ]
  },
  {
   "cell_type": "code",
   "execution_count": 21,
   "metadata": {},
   "outputs": [
    {
     "name": "stdout",
     "output_type": "stream",
     "text": [
      " Shyam Hari  Neha\n"
     ]
    }
   ],
   "source": [
    "#Delete in string\n",
    "a=\"Ram Shyam Hari Ram Neha\"\n",
    "b=a.replace(\"Ram\",\"\")\n",
    "print(b)"
   ]
  },
  {
   "cell_type": "code",
   "execution_count": 2,
   "metadata": {},
   "outputs": [
    {
     "name": "stdout",
     "output_type": "stream",
     "text": [
      "Enter the value for search=ram\n",
      "yes\n",
      "2\n"
     ]
    }
   ],
   "source": [
    "a=\"Ram Shyam Hari Ram Neha\".lower()\n",
    "search=input(\"Enter the value for search=\").lower()\n",
    "if search in a:\n",
    "    print(\"yes\")\n",
    "    print(a.count(search))\n",
    "else:\n",
    "    print(\"no\")"
   ]
  },
  {
   "cell_type": "code",
   "execution_count": 2,
   "metadata": {},
   "outputs": [
    {
     "data": {
      "text/plain": [
       "'RAM'"
      ]
     },
     "execution_count": 2,
     "metadata": {},
     "output_type": "execute_result"
    }
   ],
   "source": [
    "a= \"Ram\"\n",
    "a.upper()"
   ]
  },
  {
   "cell_type": "code",
   "execution_count": 5,
   "metadata": {},
   "outputs": [
    {
     "data": {
      "text/plain": [
       "'ram'"
      ]
     },
     "execution_count": 5,
     "metadata": {},
     "output_type": "execute_result"
    }
   ],
   "source": [
    "a= \"Ram\"\n",
    "a.lower()"
   ]
  },
  {
   "cell_type": "code",
   "execution_count": 8,
   "metadata": {},
   "outputs": [
    {
     "name": "stdout",
     "output_type": "stream",
     "text": [
      "Ram9835427589\n"
     ]
    }
   ],
   "source": [
    "#string formatting\n",
    "name=\"Ram\"\n",
    "phone=9835427589\n",
    "info= name+str(phone)\n",
    "print(info)"
   ]
  },
  {
   "cell_type": "code",
   "execution_count": 10,
   "metadata": {},
   "outputs": [
    {
     "name": "stdout",
     "output_type": "stream",
     "text": [
      "Enter name=Ram\n",
      "Enter phone=9834526789\n",
      "Ram 9834526789\n"
     ]
    }
   ],
   "source": [
    "name=input(\"Enter name=\")\n",
    "phone=int(input(\"Enter phone=\"))\n",
    "data=f\"{name} {phone}\"\n",
    "print(data)"
   ]
  },
  {
   "cell_type": "code",
   "execution_count": 12,
   "metadata": {},
   "outputs": [
    {
     "name": "stdout",
     "output_type": "stream",
     "text": [
      "Enter name=Ram\n",
      "Enter phone=9821445781\n",
      "Hello I am Ram. My phone number is 9821445781\n"
     ]
    }
   ],
   "source": [
    "name=input(\"Enter name=\")\n",
    "phone=int(input(\"Enter phone=\"))\n",
    "data=f\"Hello I am {name}. My phone number is {phone}\"\n",
    "print(data)"
   ]
  },
  {
   "cell_type": "code",
   "execution_count": 15,
   "metadata": {},
   "outputs": [
    {
     "name": "stdout",
     "output_type": "stream",
     "text": [
      "Enter n=2\n",
      "Enter name=Ram\n",
      "Enter phone=9823416789\n",
      "Enter name=Shyam\n",
      "Enter phone=9871552134\n",
      "Ram 9823416789\n",
      "Shyam 9871552134\n",
      "\n"
     ]
    }
   ],
   "source": [
    "info=str()\n",
    "n=int(input(\"Enter n=\"))\n",
    "for i in range(n):\n",
    "    name=input(\"Enter name=\")\n",
    "    phone=int(input(\"Enter phone=\"))\n",
    "    data= f\"{name} {phone}\\n\"\n",
    "    info=info+data\n",
    "print(info)"
   ]
  },
  {
   "cell_type": "code",
   "execution_count": 16,
   "metadata": {},
   "outputs": [
    {
     "name": "stdout",
     "output_type": "stream",
     "text": [
      "Enter n=4\n",
      "Enter name=Biscuit\n",
      "Enter price=50\n",
      "Enter quantity=3\n",
      "Enter name=Basmati Rice\n",
      "Enter price=1850\n",
      "Enter quantity=2\n",
      "Enter name=Shampoo\n",
      "Enter price=785\n",
      "Enter quantity=1\n",
      "Enter name=Dairy Milk\n",
      "Enter price=40\n",
      "Enter quantity=4\n",
      "Biscuit 50 3 150\n",
      "Basmati Rice 1850 2 3700\n",
      "Shampoo 785 1 785\n",
      "Dairy Milk 40 4 160\n",
      "\n"
     ]
    }
   ],
   "source": [
    "info=str()\n",
    "n=int(input(\"Enter n=\"))\n",
    "for i in range(n):\n",
    "    name=input(\"Enter name=\")\n",
    "    price=int(input(\"Enter price=\"))\n",
    "    quantity=int(input(\"Enter quantity=\"))\n",
    "    total= price*quantity\n",
    "    data= f\"{name} {price} {quantity} {total}\\n\"\n",
    "    info=info+data\n",
    "print(info)"
   ]
  },
  {
   "cell_type": "code",
   "execution_count": 1,
   "metadata": {},
   "outputs": [
    {
     "name": "stdout",
     "output_type": "stream",
     "text": [
      "Enter n=3\n",
      "Enter name=Biscuit\n",
      "Enter price=40\n",
      "Enter quantity=5\n",
      "Enter name=Basmati Rice\n",
      "Enter price=2700\n",
      "Enter quantity=2\n",
      "Enter name=Drink\n",
      "Enter price=25\n",
      "Enter quantity=10\n",
      "Biscuit 40 5 200\n",
      "Basmati Rice 2700 2 5400\n",
      "Drink 25 10 250\n",
      "\n",
      "5850\n"
     ]
    }
   ],
   "source": [
    "info=str()\n",
    "grand_total=0\n",
    "n=int(input(\"Enter n=\"))\n",
    "for i in range(n):\n",
    "    name=input(\"Enter name=\")\n",
    "    price=int(input(\"Enter price=\"))\n",
    "    quantity=int(input(\"Enter quantity=\"))\n",
    "    total= price*quantity\n",
    "    data= f\"{name} {price} {quantity} {total}\\n\"\n",
    "    grand_total= grand_total+ total\n",
    "    info=info+data\n",
    "print(info)\n",
    "print(grand_total)"
   ]
  },
  {
   "cell_type": "code",
   "execution_count": 2,
   "metadata": {},
   "outputs": [
    {
     "data": {
      "text/plain": [
       "'Wai-Wai'"
      ]
     },
     "execution_count": 2,
     "metadata": {},
     "output_type": "execute_result"
    }
   ],
   "source": [
    "#split\n",
    "a=\"Apple Ball Wai-Wai\"\n",
    "b= a.split()\n",
    "b[2]"
   ]
  },
  {
   "cell_type": "code",
   "execution_count": null,
   "metadata": {},
   "outputs": [],
   "source": []
  }
 ],
 "metadata": {
  "kernelspec": {
   "display_name": "Python 3",
   "language": "python",
   "name": "python3"
  },
  "language_info": {
   "codemirror_mode": {
    "name": "ipython",
    "version": 3
   },
   "file_extension": ".py",
   "mimetype": "text/x-python",
   "name": "python",
   "nbconvert_exporter": "python",
   "pygments_lexer": "ipython3",
   "version": "3.8.5"
  }
 },
 "nbformat": 4,
 "nbformat_minor": 4
}
