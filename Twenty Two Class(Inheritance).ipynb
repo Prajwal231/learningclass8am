{
 "cells": [
  {
   "cell_type": "code",
   "execution_count": 1,
   "metadata": {},
   "outputs": [
    {
     "name": "stdout",
     "output_type": "stream",
     "text": [
      "This is method C\n",
      "This is method B\n",
      "This is method A\n"
     ]
    }
   ],
   "source": [
    "class A:\n",
    "    def a(self):\n",
    "        print(\"This is method A\")\n",
    "class B(A):\n",
    "    def b(self):\n",
    "        print(\"This is method B\")\n",
    "class C(B):\n",
    "    def c(self):\n",
    "        print(\"This is method C\")\n",
    "        \n",
    "obj=C()\n",
    "obj.c()\n",
    "obj.b()\n",
    "obj.a()"
   ]
  },
  {
   "cell_type": "code",
   "execution_count": 7,
   "metadata": {},
   "outputs": [
    {
     "name": "stdout",
     "output_type": "stream",
     "text": [
      "Enter name=Ram\n",
      "Enter age=23\n",
      "Enter add=Koteshwor\n",
      "Hello Ram, this is Hr section.\n",
      "Hello your name is Ram, you are 23 and your address is Koteshwor.\n"
     ]
    }
   ],
   "source": [
    "class Data:\n",
    "    def __init__(self):\n",
    "        self.name=input(\"Enter name=\")\n",
    "        self.age=int(input(\"Enter age=\"))\n",
    "        self.add=input(\"Enter add=\")\n",
    "class Hr(Data):\n",
    "    def hr(self):\n",
    "        print(f\"Hello {self.name}, this is Hr section.\")\n",
    "class Office(Hr):\n",
    "    def office(self):\n",
    "        print(f\"Hello your name is {self.name}, you are {self.age} and your address is {self.add}.\")\n",
    "        \n",
    "obj=Office()\n",
    "obj.hr()\n",
    "obj.office()\n",
    "    "
   ]
  },
  {
   "cell_type": "code",
   "execution_count": 10,
   "metadata": {},
   "outputs": [
    {
     "name": "stdout",
     "output_type": "stream",
     "text": [
      "Enter salary=15000\n",
      "Enter name=Ram\n",
      "Enter age=23\n",
      "Enter add=Koteshwor\n",
      "Hello Ram, this is Hr section.\n",
      "Hello your name is Ram, you are 23, your address is Koteshwor and your salary is Rs15000.\n"
     ]
    }
   ],
   "source": [
    "class Data:\n",
    "    def __init__(self):\n",
    "        self.name=input(\"Enter name=\")\n",
    "        self.age=int(input(\"Enter age=\"))\n",
    "        self.add=input(\"Enter add=\")\n",
    "class Hr(Data):\n",
    "    def __init__(self):\n",
    "        self.salary=int(input(\"Enter salary=\"))\n",
    "        Data.__init__(self)\n",
    "        \n",
    "    def hr(self):\n",
    "        print(f\"Hello {self.name}, this is Hr section.\")\n",
    "class Office(Hr):\n",
    "    def office(self):\n",
    "        print(f\"Hello your name is {self.name}, you are {self.age}, your address is {self.add} and your salary is Rs{self.salary}.\")\n",
    "        \n",
    "obj=Office()\n",
    "obj.hr()\n",
    "obj.office()"
   ]
  },
  {
   "cell_type": "code",
   "execution_count": 18,
   "metadata": {},
   "outputs": [
    {
     "name": "stdout",
     "output_type": "stream",
     "text": [
      "Enter name=Ram\n",
      "Enter age=23\n",
      "Enter add=Koteshwor\n",
      "Enter salary=15000\n",
      "Hello your name is Ram, you are 23, your address is Koteshwor and your salary is Rs15000.\n"
     ]
    }
   ],
   "source": [
    "class Data:\n",
    "    def __init__(self):\n",
    "        self.name=input(\"Enter name=\")\n",
    "        self.age=int(input(\"Enter age=\"))\n",
    "        self.add=input(\"Enter add=\")\n",
    "        \n",
    "        \n",
    "class Hr:\n",
    "    def __init__(self):\n",
    "        self.salary=int(input(\"Enter salary=\"))  \n",
    "        \n",
    "    def hr(self):\n",
    "        print(f\"Hello {self.name}, this is Hr section.\")\n",
    "        \n",
    "class Office(Data,Hr):\n",
    "    def __init__(self):\n",
    "        Data.__init__(self)\n",
    "        Hr.__init__(self)\n",
    "    def office(self):\n",
    "        print(f\"Hello your name is {self.name}, you are {self.age}, your address is {self.add} and your salary is Rs{self.salary}.\")\n",
    "        \n",
    "obj=Office()\n",
    "obj.office()"
   ]
  },
  {
   "cell_type": "code",
   "execution_count": 28,
   "metadata": {},
   "outputs": [],
   "source": [
    "class Person:\n",
    "    #defining constructor\n",
    "    def __init__(self, personName, personAge):\n",
    "        self.name=personName\n",
    "        self.age=personAge\n",
    "        #defining class metods\n",
    "class Student:\n",
    "    def __init__(self, studentId):\n",
    "        self.studentId=studentId\n",
    "class Resident(Person,Student):\n",
    "    #extends both Person and Student class\n",
    "    def __init__(self, name, age, id):\n",
    "        Person.__init__(self,name,age)\n",
    "        Student.__init__(self,id)\n",
    "        #create an objectof the subclass\n",
    "    def info(self):\n",
    "        print(f\"Hello{self.name}your age is {self.age} and id is{self.id}.\")\n",
    "resident1=Resident('Ram','25','2')"
   ]
  },
  {
   "cell_type": "code",
   "execution_count": null,
   "metadata": {},
   "outputs": [],
   "source": []
  }
 ],
 "metadata": {
  "kernelspec": {
   "display_name": "Python 3",
   "language": "python",
   "name": "python3"
  },
  "language_info": {
   "codemirror_mode": {
    "name": "ipython",
    "version": 3
   },
   "file_extension": ".py",
   "mimetype": "text/x-python",
   "name": "python",
   "nbconvert_exporter": "python",
   "pygments_lexer": "ipython3",
   "version": "3.8.5"
  }
 },
 "nbformat": 4,
 "nbformat_minor": 4
}
