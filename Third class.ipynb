{
 "cells": [
  {
   "cell_type": "code",
   "execution_count": 8,
   "metadata": {},
   "outputs": [
    {
     "name": "stdout",
     "output_type": "stream",
     "text": [
      "Python"
     ]
    }
   ],
   "source": [
    "a= \"Python\"\n",
    "for i in a:\n",
    "    print(i,end=\"\")"
   ]
  },
  {
   "cell_type": "code",
   "execution_count": 12,
   "metadata": {},
   "outputs": [
    {
     "name": "stdout",
     "output_type": "stream",
     "text": [
      "P Hello World\n",
      "y Hello World\n",
      "t Hello World\n",
      "h Hello World\n",
      "o Hello World\n",
      "n Hello World\n"
     ]
    }
   ],
   "source": [
    "a= \"Python\"\n",
    "for i in a:\n",
    "    print(i,\"Hello World\")"
   ]
  },
  {
   "cell_type": "code",
   "execution_count": 13,
   "metadata": {},
   "outputs": [
    {
     "name": "stdout",
     "output_type": "stream",
     "text": [
      "Apple\n",
      "Ball\n",
      "Cat\n",
      "Dog\n"
     ]
    }
   ],
   "source": [
    "a= [\"Apple\",\"Ball\",\"Cat\",\"Dog\"]\n",
    "for i in a:\n",
    "    print(i)"
   ]
  },
  {
   "cell_type": "code",
   "execution_count": 17,
   "metadata": {},
   "outputs": [
    {
     "name": "stdout",
     "output_type": "stream",
     "text": [
      "python"
     ]
    }
   ],
   "source": [
    "a=\"python\"\n",
    "n= len(a)\n",
    "for i in range(n):\n",
    "    print(a[i],end=\"\")"
   ]
  },
  {
   "cell_type": "code",
   "execution_count": 18,
   "metadata": {},
   "outputs": [
    {
     "name": "stdout",
     "output_type": "stream",
     "text": [
      "Apple\n",
      "Ball\n",
      "There is cat\n",
      "Cat\n",
      "Dog\n"
     ]
    }
   ],
   "source": [
    "a= [\"Apple\",\"Ball\",\"Cat\",\"Dog\"]\n",
    "for i in a:\n",
    "    if i== \"Cat\":\n",
    "        print(\"There is cat\")\n",
    "    print(i)"
   ]
  },
  {
   "cell_type": "code",
   "execution_count": 19,
   "metadata": {},
   "outputs": [],
   "source": [
    "# break\n",
    "#continue\n",
    "#pass"
   ]
  },
  {
   "cell_type": "code",
   "execution_count": 28,
   "metadata": {},
   "outputs": [
    {
     "name": "stdout",
     "output_type": "stream",
     "text": [
      "Hello"
     ]
    }
   ],
   "source": [
    "a=\"Hello World\"\n",
    "for i in a:\n",
    "    if i == \" \":\n",
    "        break\n",
    "    else:\n",
    "        print(i,end=\"\")"
   ]
  },
  {
   "cell_type": "code",
   "execution_count": 31,
   "metadata": {},
   "outputs": [
    {
     "name": "stdout",
     "output_type": "stream",
     "text": [
      "HelloWorld"
     ]
    }
   ],
   "source": [
    "a=\"Hello World\"\n",
    "for i in a:\n",
    "    if i == \" \":\n",
    "        continue \n",
    "    else:\n",
    "        print(i,end=\"\")"
   ]
  },
  {
   "cell_type": "code",
   "execution_count": 36,
   "metadata": {},
   "outputs": [
    {
     "name": "stdout",
     "output_type": "stream",
     "text": [
      "Apple\n",
      "Ball\n"
     ]
    }
   ],
   "source": [
    "a= [\"Apple\",\"Ball\",\"Cat\",\"Dog\",\"Cat\",\"Cat\",\"Dog\"]\n",
    "for i in a:\n",
    "    if (i== \"Cat\") or (i== \"Dog\"):\n",
    "        continue\n",
    "    print(i)"
   ]
  },
  {
   "cell_type": "code",
   "execution_count": 1,
   "metadata": {},
   "outputs": [
    {
     "name": "stdout",
     "output_type": "stream",
     "text": [
      "Enter n=3\n",
      "2\n",
      "4\n",
      "6\n",
      "8\n",
      "10\n",
      "12\n",
      "14\n",
      "16\n",
      "18\n",
      "20\n"
     ]
    }
   ],
   "source": [
    "n= input(\"Enter n=\")\n",
    "for i in range(1,21):\n",
    "    if i%2 !=0:\n",
    "        continue\n",
    "    print(i)"
   ]
  },
  {
   "cell_type": "code",
   "execution_count": 48,
   "metadata": {},
   "outputs": [
    {
     "name": "stdout",
     "output_type": "stream",
     "text": [
      "5\n",
      "10\n",
      "15\n",
      "20\n",
      "25\n",
      "30\n",
      "35\n",
      "40\n",
      "45\n",
      "50\n"
     ]
    }
   ],
   "source": [
    "for i in range(1,51):\n",
    "    if i%5 !=0:\n",
    "        continue\n",
    "    print(i)\n",
    "    "
   ]
  },
  {
   "cell_type": "code",
   "execution_count": 57,
   "metadata": {},
   "outputs": [
    {
     "data": {
      "text/plain": [
       "(1, 2, 3, 5, 8)"
      ]
     },
     "execution_count": 57,
     "metadata": {},
     "output_type": "execute_result"
    }
   ],
   "source": [
    "#prime and factoraial\n",
    "#factorial\n",
    "1,2,3,5,8"
   ]
  },
  {
   "cell_type": "code",
   "execution_count": 62,
   "metadata": {},
   "outputs": [
    {
     "name": "stdout",
     "output_type": "stream",
     "text": [
      "4\n",
      "8\n",
      "12\n",
      "16\n",
      "20\n",
      "24\n",
      "28\n",
      "32\n"
     ]
    }
   ],
   "source": [
    "for i in range(1,36):\n",
    "    if i%4 !=0:\n",
    "        continue\n",
    "    print(i)"
   ]
  },
  {
   "cell_type": "code",
   "execution_count": 84,
   "metadata": {},
   "outputs": [
    {
     "name": "stdout",
     "output_type": "stream",
     "text": [
      "Enter n=4\n",
      "1\n",
      "2\n",
      "6\n",
      "24\n"
     ]
    }
   ],
   "source": [
    "#5!= 1*2*3*4*5\n",
    "fac=1\n",
    "n= int(input(\"Enter n=\"))\n",
    "for i in range(1,n+1):\n",
    "         fac= fac*i\n",
    "        \n",
    "         print(fac)"
   ]
  },
  {
   "cell_type": "code",
   "execution_count": 85,
   "metadata": {},
   "outputs": [
    {
     "name": "stdout",
     "output_type": "stream",
     "text": [
      "Enter n=11\n",
      "1\n",
      "2\n",
      "6\n",
      "24\n",
      "120\n",
      "720\n",
      "5040\n",
      "40320\n",
      "362880\n",
      "3628800\n",
      "39916800\n"
     ]
    }
   ],
   "source": [
    "prime=1\n",
    "n= int(input(\"Enter n=\"))\n",
    "for i in range(1,n+1):\n",
    "         prime= prime*i\n",
    "        \n",
    "         print(prime)"
   ]
  },
  {
   "cell_type": "code",
   "execution_count": null,
   "metadata": {},
   "outputs": [],
   "source": []
  }
 ],
 "metadata": {
  "kernelspec": {
   "display_name": "Python 3",
   "language": "python",
   "name": "python3"
  },
  "language_info": {
   "codemirror_mode": {
    "name": "ipython",
    "version": 3
   },
   "file_extension": ".py",
   "mimetype": "text/x-python",
   "name": "python",
   "nbconvert_exporter": "python",
   "pygments_lexer": "ipython3",
   "version": "3.8.5"
  }
 },
 "nbformat": 4,
 "nbformat_minor": 4
}
