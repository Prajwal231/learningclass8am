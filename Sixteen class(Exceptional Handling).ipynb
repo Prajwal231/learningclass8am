{
 "cells": [
  {
   "cell_type": "code",
   "execution_count": 1,
   "metadata": {},
   "outputs": [],
   "source": [
    "#try:\n",
    "#    <operation>\n",
    "#except:\n",
    "#    <operation>"
   ]
  },
  {
   "cell_type": "code",
   "execution_count": 3,
   "metadata": {},
   "outputs": [
    {
     "name": "stdout",
     "output_type": "stream",
     "text": [
      "Enter a=hbhjb\n",
      "Please enter int datatype\n"
     ]
    }
   ],
   "source": [
    "try:\n",
    "    a=int(input(\"Enter a=\"))\n",
    "    b=int(input(\"Enter b=\"))\n",
    "    c=a+b\n",
    "    print(c)\n",
    "except:\n",
    "    print(\"Please enter int datatype\")"
   ]
  },
  {
   "cell_type": "code",
   "execution_count": 6,
   "metadata": {},
   "outputs": [
    {
     "name": "stdout",
     "output_type": "stream",
     "text": [
      "Enter a=10\n",
      "Enter b=0\n",
      "The value of b can not be zero\n"
     ]
    }
   ],
   "source": [
    "try:\n",
    "    a=int(input(\"Enter a=\"))\n",
    "    b=int(input(\"Enter b=\"))\n",
    "    c=a+b\n",
    "    d=a/b\n",
    "    print(c)\n",
    "except ValueError:\n",
    "    print(\"Please enter int datatype\")\n",
    "except ZeroDivisionError:\n",
    "    print(\"The value of b can not be zero\")"
   ]
  },
  {
   "cell_type": "code",
   "execution_count": 10,
   "metadata": {},
   "outputs": [
    {
     "name": "stdout",
     "output_type": "stream",
     "text": [
      "Enter a=10\n",
      "Enter b=5\n",
      "15\n",
      "2.0\n"
     ]
    }
   ],
   "source": [
    "def cal():\n",
    "    try:\n",
    "        a=int(input(\"Enter a=\"))\n",
    "        b=int(input(\"Enter b=\"))\n",
    "        c=a+b\n",
    "        d=a/b\n",
    "        print(c)\n",
    "        print(d)\n",
    "    except ValueError:\n",
    "        print(\"Please enter int datatype\")\n",
    "        cal()\n",
    "    \n",
    "    except ZeroDivisionError:\n",
    "        print(\"The value of b can not be zero\")\n",
    "        cal()\n",
    "    \n",
    "    \n",
    "cal()"
   ]
  },
  {
   "cell_type": "code",
   "execution_count": 11,
   "metadata": {},
   "outputs": [
    {
     "name": "stdout",
     "output_type": "stream",
     "text": [
      "Enter l=10\n",
      "Enter b=4\n",
      "The value ofc= 40\n"
     ]
    }
   ],
   "source": [
    "try:\n",
    "    l=int(input(\"Enter l=\"))\n",
    "    b=int(input(\"Enter b=\"))\n",
    "    \n",
    "except:\n",
    "    print(\"please enter int datatype\")\n",
    "else:\n",
    "    a=l*b\n",
    "    print(\"The value ofc=\",a)"
   ]
  },
  {
   "cell_type": "code",
   "execution_count": 12,
   "metadata": {},
   "outputs": [
    {
     "name": "stdout",
     "output_type": "stream",
     "text": [
      "Enter l=10\n",
      "Enter b=3\n",
      "The value of c= 30\n",
      "Thanks for using the app\n"
     ]
    }
   ],
   "source": [
    "try:\n",
    "    l=int(input(\"Enter l=\"))\n",
    "    b=int(input(\"Enter b=\"))\n",
    "    \n",
    "except:\n",
    "    print(\"please enter int datatype\")\n",
    "else:\n",
    "    a=l*b\n",
    "    print(\"The value of c=\",a)\n",
    "finally:\n",
    "    print(\"Thanks for using the app\")"
   ]
  },
  {
   "cell_type": "code",
   "execution_count": 15,
   "metadata": {},
   "outputs": [
    {
     "name": "stdout",
     "output_type": "stream",
     "text": [
      "Enter a=10\n",
      "Enter b=0\n",
      "The value of b can not be 0\n"
     ]
    }
   ],
   "source": [
    "try:\n",
    "    a=int(input(\"Enter a=\"))\n",
    "    b=int(input(\"Enter b=\"))\n",
    "    if b==0:\n",
    "        raise ZeroDivisionError\n",
    "    else:\n",
    "        print(\"a/b=\",a/b)\n",
    "except ZeroDivisionError:\n",
    "    print(\"The value of b can not be 0\")\n",
    "        "
   ]
  },
  {
   "cell_type": "code",
   "execution_count": 16,
   "metadata": {},
   "outputs": [
    {
     "name": "stdout",
     "output_type": "stream",
     "text": [
      "Enter the value of n=11\n"
     ]
    },
    {
     "ename": "AssertionError",
     "evalue": "",
     "output_type": "error",
     "traceback": [
      "\u001b[1;31m---------------------------------------------------------------------------\u001b[0m",
      "\u001b[1;31mAssertionError\u001b[0m                            Traceback (most recent call last)",
      "\u001b[1;32m<ipython-input-16-be99cf0ab539>\u001b[0m in \u001b[0;36m<module>\u001b[1;34m\u001b[0m\n\u001b[0;32m      1\u001b[0m \u001b[0mn\u001b[0m\u001b[1;33m=\u001b[0m\u001b[0mint\u001b[0m\u001b[1;33m(\u001b[0m\u001b[0minput\u001b[0m\u001b[1;33m(\u001b[0m\u001b[1;34m\"Enter the value of n=\"\u001b[0m\u001b[1;33m)\u001b[0m\u001b[1;33m)\u001b[0m\u001b[1;33m\u001b[0m\u001b[1;33m\u001b[0m\u001b[0m\n\u001b[1;32m----> 2\u001b[1;33m \u001b[1;32massert\u001b[0m \u001b[0mn\u001b[0m\u001b[1;33m%\u001b[0m\u001b[1;36m2\u001b[0m\u001b[1;33m==\u001b[0m\u001b[1;36m0\u001b[0m\u001b[1;33m\u001b[0m\u001b[1;33m\u001b[0m\u001b[0m\n\u001b[0m",
      "\u001b[1;31mAssertionError\u001b[0m: "
     ]
    }
   ],
   "source": [
    "n=int(input(\"Enter the value of n=\"))\n",
    "assert n%2==0\n"
   ]
  },
  {
   "cell_type": "code",
   "execution_count": 19,
   "metadata": {},
   "outputs": [
    {
     "name": "stdout",
     "output_type": "stream",
     "text": [
      "Enter the value of n=11\n",
      "Please enter even value.\n"
     ]
    }
   ],
   "source": [
    "try:\n",
    "    n=int(input(\"Enter the value of n=\"))\n",
    "    assert n%2==0\n",
    "except AssertionError:\n",
    "    print(\"Please enter even value.\")"
   ]
  },
  {
   "cell_type": "code",
   "execution_count": null,
   "metadata": {},
   "outputs": [],
   "source": []
  },
  {
   "cell_type": "code",
   "execution_count": null,
   "metadata": {},
   "outputs": [],
   "source": []
  }
 ],
 "metadata": {
  "kernelspec": {
   "display_name": "Python 3",
   "language": "python",
   "name": "python3"
  },
  "language_info": {
   "codemirror_mode": {
    "name": "ipython",
    "version": 3
   },
   "file_extension": ".py",
   "mimetype": "text/x-python",
   "name": "python",
   "nbconvert_exporter": "python",
   "pygments_lexer": "ipython3",
   "version": "3.8.5"
  }
 },
 "nbformat": 4,
 "nbformat_minor": 4
}
