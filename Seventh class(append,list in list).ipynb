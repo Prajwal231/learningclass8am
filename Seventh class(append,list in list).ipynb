{
 "cells": [
  {
   "cell_type": "code",
   "execution_count": 4,
   "metadata": {},
   "outputs": [
    {
     "name": "stdout",
     "output_type": "stream",
     "text": [
      "['Apple', 'Ball', 2, 10.5]\n"
     ]
    }
   ],
   "source": [
    "#append()\n",
    "a=[]\n",
    "a.append(\"Apple\")\n",
    "a.append(\"Ball\")\n",
    "a.append(2)\n",
    "a.append(10.5)\n",
    "print(a)"
   ]
  },
  {
   "cell_type": "code",
   "execution_count": 5,
   "metadata": {},
   "outputs": [
    {
     "name": "stdout",
     "output_type": "stream",
     "text": [
      "Enter the valueof n=5\n",
      "Enter the value of x=321\n",
      "Enter the value of x=54\n",
      "Enter the value of x=89\n",
      "Enter the value of x=67\n",
      "Enter the value of x=87\n",
      "The list = [321, 54, 89, 67, 87]\n",
      "The sum = 618\n",
      "The max value= 321\n",
      "The min value= 54\n"
     ]
    }
   ],
   "source": [
    "l=[]\n",
    "n=int(input(\"Enter the valueof n=\"))\n",
    "for i in range(n):\n",
    "    x=int(input(\"Enter the value of x=\"))\n",
    "    l.append(x)\n",
    "print(\"The list =\",l)\n",
    "print(\"The sum =\",sum(l))\n",
    "print(\"The max value=\",max(l))\n",
    "print(\"The min value=\",min(l))\n"
   ]
  },
  {
   "cell_type": "code",
   "execution_count": 7,
   "metadata": {},
   "outputs": [
    {
     "name": "stdout",
     "output_type": "stream",
     "text": [
      "[321, 43, 54, 432, 'Apple', 56]\n"
     ]
    }
   ],
   "source": [
    "a=[321,43,54,432,56]\n",
    "a.insert(2,\"Apple\")\n",
    "print(a)"
   ]
  },
  {
   "cell_type": "code",
   "execution_count": 8,
   "metadata": {},
   "outputs": [
    {
     "name": "stdout",
     "output_type": "stream",
     "text": [
      "[321, 43, 54, 432, 'Apple', 56]\n"
     ]
    }
   ],
   "source": [
    "a=[321,43,54,432,56]\n",
    "a.insert(-1,\"Apple\")\n",
    "print(a)"
   ]
  },
  {
   "cell_type": "code",
   "execution_count": 9,
   "metadata": {},
   "outputs": [],
   "source": [
    "#del\n",
    "#remove()\n",
    "#pop()\n",
    "#clear()"
   ]
  },
  {
   "cell_type": "code",
   "execution_count": 14,
   "metadata": {},
   "outputs": [
    {
     "name": "stdout",
     "output_type": "stream",
     "text": [
      "4\n",
      "[321, 456, 54, 32, 23]\n"
     ]
    }
   ],
   "source": [
    "a=[321,456,54,32,\"apple\",23]\n",
    "i=a.index(\"apple\")\n",
    "print(i)\n",
    "del a[i]\n",
    "print(a)"
   ]
  },
  {
   "cell_type": "code",
   "execution_count": 16,
   "metadata": {},
   "outputs": [
    {
     "name": "stdout",
     "output_type": "stream",
     "text": [
      "[321, 456, 54, 32, 23]\n"
     ]
    }
   ],
   "source": [
    "a=[321,456,54,32,\"apple\",23]\n",
    "a.remove(\"apple\")\n",
    "print(a)"
   ]
  },
  {
   "cell_type": "code",
   "execution_count": 19,
   "metadata": {},
   "outputs": [
    {
     "name": "stdout",
     "output_type": "stream",
     "text": [
      "[321, 456, 54, 32, 23]\n"
     ]
    }
   ],
   "source": [
    "a=[321,456,54,32,\"apple\",23]\n",
    "a.pop(4)\n",
    "print(a)"
   ]
  },
  {
   "cell_type": "code",
   "execution_count": 22,
   "metadata": {},
   "outputs": [
    {
     "name": "stdout",
     "output_type": "stream",
     "text": [
      "['Ball', 'Cat']\n"
     ]
    }
   ],
   "source": [
    "a=[\"Apple\",\"Ball\",\"Apple\",\"Cat\",\"Apple\"]\n",
    "n=a.count(a)\n",
    "for i in a:\n",
    "    a.remove(\"Apple\")\n",
    "    \n",
    "print(a)"
   ]
  },
  {
   "cell_type": "code",
   "execution_count": 23,
   "metadata": {},
   "outputs": [
    {
     "name": "stdout",
     "output_type": "stream",
     "text": [
      "['Ball', 'Cat']\n"
     ]
    }
   ],
   "source": [
    "a=[\"Apple\",\"Ball\",\"Apple\",\"Cat\",\"Apple\"]\n",
    "n=a.count(\"Apple\")\n",
    "for i in range(n):\n",
    "    a.remove(\"Apple\")\n",
    "print(a)"
   ]
  },
  {
   "cell_type": "code",
   "execution_count": 30,
   "metadata": {},
   "outputs": [
    {
     "name": "stdout",
     "output_type": "stream",
     "text": [
      "['Ball', 'Cat']\n"
     ]
    }
   ],
   "source": [
    "b=[]\n",
    "a=[\"Apple\",\"Ball\",\"Apple\",\"Cat\",\"Apple\"]\n",
    "for i in a:\n",
    "    if i==\"Apple\":\n",
    "        continue\n",
    "    b.append(i)\n",
    "print(b)\n",
    "        "
   ]
  },
  {
   "cell_type": "code",
   "execution_count": 34,
   "metadata": {},
   "outputs": [
    {
     "name": "stdout",
     "output_type": "stream",
     "text": [
      "[1, 3]\n"
     ]
    }
   ],
   "source": [
    "b=[]\n",
    "a=[\"Apple\",\"Ball\",\"Apple\",\"Cat\",\"Apple\"]\n",
    "n=len(a)\n",
    "for i in range(n):\n",
    "    if a[i]==\"Apple\":\n",
    "        continue\n",
    "    b.append(i)\n",
    "print(b)\n",
    "        "
   ]
  },
  {
   "cell_type": "code",
   "execution_count": 35,
   "metadata": {},
   "outputs": [
    {
     "data": {
      "text/plain": [
       "list"
      ]
     },
     "execution_count": 35,
     "metadata": {},
     "output_type": "execute_result"
    }
   ],
   "source": [
    "#list inside list\n",
    "a=[[1,2,3],\n",
    "   [4,5,6],\n",
    "   [7,8,9]]\n",
    "type(a)"
   ]
  },
  {
   "cell_type": "code",
   "execution_count": 36,
   "metadata": {},
   "outputs": [
    {
     "data": {
      "text/plain": [
       "[1, 2, 3]"
      ]
     },
     "execution_count": 36,
     "metadata": {},
     "output_type": "execute_result"
    }
   ],
   "source": [
    "a[0]"
   ]
  },
  {
   "cell_type": "code",
   "execution_count": 37,
   "metadata": {},
   "outputs": [
    {
     "data": {
      "text/plain": [
       "1"
      ]
     },
     "execution_count": 37,
     "metadata": {},
     "output_type": "execute_result"
    }
   ],
   "source": [
    "a[0][0]"
   ]
  },
  {
   "cell_type": "code",
   "execution_count": 40,
   "metadata": {},
   "outputs": [
    {
     "name": "stdout",
     "output_type": "stream",
     "text": [
      "Enter n=2\n",
      "Enter name=Ram\n",
      "Enter age=18\n",
      "Enter address=Koteshwor\n",
      "Enter name=Shyam\n",
      "Enter age=21\n",
      "Enter address=Bhaktapur\n",
      "[['Ram', '18', 'Koteshwor'], ['Shyam', '21', 'Bhaktapur']]\n"
     ]
    }
   ],
   "source": [
    "data=[]\n",
    "n=int(input(\"Enter n=\"))\n",
    "for i in range(n):\n",
    "    name=input(\"Enter name=\")\n",
    "    age=input(\"Enter age=\")\n",
    "    address=input(\"Enter address=\")\n",
    "    info=[name,age,address]\n",
    "    data.append(info)\n",
    "print(data)\n"
   ]
  },
  {
   "cell_type": "code",
   "execution_count": 41,
   "metadata": {},
   "outputs": [
    {
     "name": "stdout",
     "output_type": "stream",
     "text": [
      "Enter n=2\n",
      "Enter name=Ram\n",
      "Enter age=18\n",
      "Enter address=Koteshwor\n",
      "Enter name=Shyam\n",
      "Enter age=21\n",
      "Enter address=Bhaktapur\n",
      "[[1, 'Ram', '18', 'Koteshwor'], [2, 'Shyam', '21', 'Bhaktapur']]\n"
     ]
    }
   ],
   "source": [
    "data=[]\n",
    "n=int(input(\"Enter n=\"))\n",
    "for i in range(1,n+1):\n",
    "    name=input(\"Enter name=\")\n",
    "    age=input(\"Enter age=\")\n",
    "    address=input(\"Enter address=\")\n",
    "    info=[i,name,age,address]\n",
    "    data.append(info)\n",
    "print(data)"
   ]
  },
  {
   "cell_type": "code",
   "execution_count": 42,
   "metadata": {},
   "outputs": [
    {
     "name": "stdout",
     "output_type": "stream",
     "text": [
      "Enter sn=1\n"
     ]
    },
    {
     "data": {
      "text/plain": [
       "[1, 'Ram', '18', 'Koteshwor']"
      ]
     },
     "execution_count": 42,
     "metadata": {},
     "output_type": "execute_result"
    }
   ],
   "source": [
    "sn=int(input(\"Enter sn=\"))\n",
    "data[sn-1]"
   ]
  },
  {
   "cell_type": "code",
   "execution_count": 44,
   "metadata": {},
   "outputs": [
    {
     "name": "stdout",
     "output_type": "stream",
     "text": [
      "[2, 3, 4, 5, 6, 7]\n"
     ]
    }
   ],
   "source": [
    "a=[1,2,3,4,5,6,7]\n",
    "del a[0]\n",
    "print(a)"
   ]
  },
  {
   "cell_type": "code",
   "execution_count": 45,
   "metadata": {},
   "outputs": [
    {
     "name": "stdout",
     "output_type": "stream",
     "text": [
      "[]\n"
     ]
    }
   ],
   "source": [
    "a=[1,2,3,4,5,6,7]\n",
    "a.clear()\n",
    "print(a)"
   ]
  },
  {
   "cell_type": "code",
   "execution_count": 46,
   "metadata": {},
   "outputs": [
    {
     "name": "stdout",
     "output_type": "stream",
     "text": [
      "[]\n"
     ]
    }
   ],
   "source": [
    "a=[1,2,3,4,5,6,7]\n",
    "del a[:]\n",
    "print(a)"
   ]
  },
  {
   "cell_type": "code",
   "execution_count": null,
   "metadata": {},
   "outputs": [],
   "source": []
  }
 ],
 "metadata": {
  "kernelspec": {
   "display_name": "Python 3",
   "language": "python",
   "name": "python3"
  },
  "language_info": {
   "codemirror_mode": {
    "name": "ipython",
    "version": 3
   },
   "file_extension": ".py",
   "mimetype": "text/x-python",
   "name": "python",
   "nbconvert_exporter": "python",
   "pygments_lexer": "ipython3",
   "version": "3.8.5"
  }
 },
 "nbformat": 4,
 "nbformat_minor": 4
}
