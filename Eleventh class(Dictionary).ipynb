{
 "cells": [
  {
   "cell_type": "code",
   "execution_count": 7,
   "metadata": {},
   "outputs": [
    {
     "name": "stdout",
     "output_type": "stream",
     "text": [
      "Enter phone=24455\n",
      "('Ram', [9841235679, 9823415762])\n",
      "('Shyam', [9856554549, 981832514792])\n"
     ]
    }
   ],
   "source": [
    "a={\"Ram\":[9841235679, 9823415762],\"Shyam\":[9856554549, 981832514792]}\n",
    "n=int(input(\"Enter phone=\"))\n",
    "for i in a.items():\n",
    "    if n in i[1]:\n",
    "        print(i)\n",
    "    print(i)"
   ]
  },
  {
   "cell_type": "code",
   "execution_count": 8,
   "metadata": {},
   "outputs": [
    {
     "name": "stdout",
     "output_type": "stream",
     "text": [
      "('Ram', [9841235679, 9823415762])\n",
      "('Shyam', [9856554549, 981832514792])\n"
     ]
    }
   ],
   "source": [
    "a={\"Ram\":[9841235679, 9823415762],\"Shyam\":[9856554549, 981832514792]}\n",
    "for i in a.items():\n",
    "    print(i)"
   ]
  },
  {
   "cell_type": "code",
   "execution_count": 18,
   "metadata": {},
   "outputs": [
    {
     "name": "stdout",
     "output_type": "stream",
     "text": [
      "enter phone=9841235679\n",
      "{'Shyam': [9856554549, 981832514792]}\n"
     ]
    }
   ],
   "source": [
    "#powerful code\n",
    "a={\"Ram\":[9841235679, 9823415762],\"Shyam\":[9856554549, 981832514792]}\n",
    "n=int(input(\"enter phone=\"))\n",
    "for i in a.items():\n",
    "    if n in i[1]:      \n",
    "        key=(i[0])\n",
    "        del a[key]\n",
    "        break\n",
    "print(a)"
   ]
  },
  {
   "cell_type": "code",
   "execution_count": 19,
   "metadata": {},
   "outputs": [],
   "source": [
    "#dictionary inside dictionary\n",
    "#d={<key>:{<key>:<value>,<key>:<value>},\n",
    "#   <key>:{<key>:<value>,<key>:<value>}}"
   ]
  },
  {
   "cell_type": "code",
   "execution_count": 20,
   "metadata": {},
   "outputs": [
    {
     "name": "stdout",
     "output_type": "stream",
     "text": [
      "<class 'dict'>\n",
      "{'Ram': {'Physics': 67, 'Chemistry': 89, 'Math': 45}, 'Shyam': {'Physics': 78, 'Chemistry': 69, 'Math': 98}}\n"
     ]
    }
   ],
   "source": [
    "d={\"Ram\":{\"Physics\":67,\"Chemistry\":89,\"Math\":45},\n",
    "  \"Shyam\":{\"Physics\":78,\"Chemistry\":69,\"Math\":98}}\n",
    "print (type(d))\n",
    "print(d)"
   ]
  },
  {
   "cell_type": "code",
   "execution_count": 21,
   "metadata": {},
   "outputs": [
    {
     "name": "stdout",
     "output_type": "stream",
     "text": [
      "('Ram', {'Physics': 67, 'Chemistry': 89, 'Math': 45})\n",
      "('Shyam', {'Physics': 78, 'Chemistry': 69, 'Math': 98})\n"
     ]
    }
   ],
   "source": [
    "for i in d.items():\n",
    "    print(i)"
   ]
  },
  {
   "cell_type": "code",
   "execution_count": 22,
   "metadata": {},
   "outputs": [
    {
     "name": "stdout",
     "output_type": "stream",
     "text": [
      "{'Physics': 67, 'Chemistry': 89, 'Math': 45}\n"
     ]
    }
   ],
   "source": [
    "#read\n",
    "print(d[\"Ram\"])"
   ]
  },
  {
   "cell_type": "code",
   "execution_count": 23,
   "metadata": {},
   "outputs": [
    {
     "name": "stdout",
     "output_type": "stream",
     "text": [
      "67\n"
     ]
    }
   ],
   "source": [
    "print(d[\"Ram\"][\"Physics\"])"
   ]
  },
  {
   "cell_type": "code",
   "execution_count": 24,
   "metadata": {},
   "outputs": [
    {
     "name": "stdout",
     "output_type": "stream",
     "text": [
      "{'Ram': {'Physics': 76, 'Chemistry': 89, 'Math': 45}, 'Shyam': {'Physics': 78, 'Chemistry': 69, 'Math': 98}}\n"
     ]
    }
   ],
   "source": [
    "#upgrade\n",
    "d[\"Ram\"][\"Physics\"]=76\n",
    "print(d)"
   ]
  },
  {
   "cell_type": "code",
   "execution_count": 28,
   "metadata": {},
   "outputs": [
    {
     "name": "stdout",
     "output_type": "stream",
     "text": [
      "Enter number of students=2\n",
      "Enter name=Ram\n",
      "Enter physics=76\n",
      "Enter chemistry=61\n",
      "Enter math=92\n",
      "Enter name=Shyam\n",
      "Enter physics=67\n",
      "Enter chemistry=89\n",
      "Enter math=95\n",
      "{'Ram': {'Physics': 76, 'Chemistry': 61, 'Math': 92}, 'Shyam': {'Physics': 67, 'Chemistry': 89, 'Math': 95}}\n"
     ]
    }
   ],
   "source": [
    "data={}\n",
    "n=int(input(\"Enter number of students=\"))\n",
    "for i in range(n):\n",
    "    name=input(\"Enter name=\")\n",
    "    physics=int(input(\"Enter physics=\"))\n",
    "    chemistry=int(input(\"Enter chemistry=\"))\n",
    "    math=int(input(\"Enter math=\"))\n",
    "    data[name]={\"Physics\":physics,\"Chemistry\":chemistry,\"Math\":math}\n",
    "print(data)"
   ]
  },
  {
   "cell_type": "code",
   "execution_count": 30,
   "metadata": {},
   "outputs": [
    {
     "data": {
      "text/plain": [
       "{'Name': 'Hari', 'Phone': 9803459244}"
      ]
     },
     "execution_count": 30,
     "metadata": {},
     "output_type": "execute_result"
    }
   ],
   "source": [
    "d=[{\"Name\":\"Ram\",\"Phone\":9803457621},\n",
    "  {\"Name\":\"Shyam\",\"Phone\":9803458921},\n",
    "  {\"Name\":\"Hari\",\"Phone\":9803459244}]\n",
    "d[2]"
   ]
  },
  {
   "cell_type": "code",
   "execution_count": 31,
   "metadata": {},
   "outputs": [
    {
     "name": "stdout",
     "output_type": "stream",
     "text": [
      "[{'Name': 'Ram', 'Phone': 9803457621}, {'Name': 'Shyam', 'Phone': 9803458921}, {'Name': 'Hari', 'Phone': 9803459244}]\n",
      "[{'Name': 'Ram', 'Phone': 9803457621}, {'Name': 'Shyam', 'Phone': 9803458921}, {'Name': 'Hari', 'Phone': 9803459244}]\n",
      "[{'Name': 'Ram', 'Phone': 9803457621}, {'Name': 'Shyam', 'Phone': 9803458921}, {'Name': 'Hari', 'Phone': 9803459244}]\n"
     ]
    }
   ],
   "source": [
    "for i in d:\n",
    "    print(d)"
   ]
  },
  {
   "cell_type": "code",
   "execution_count": null,
   "metadata": {},
   "outputs": [],
   "source": []
  }
 ],
 "metadata": {
  "kernelspec": {
   "display_name": "Python 3",
   "language": "python",
   "name": "python3"
  },
  "language_info": {
   "codemirror_mode": {
    "name": "ipython",
    "version": 3
   },
   "file_extension": ".py",
   "mimetype": "text/x-python",
   "name": "python",
   "nbconvert_exporter": "python",
   "pygments_lexer": "ipython3",
   "version": "3.8.5"
  }
 },
 "nbformat": 4,
 "nbformat_minor": 4
}
