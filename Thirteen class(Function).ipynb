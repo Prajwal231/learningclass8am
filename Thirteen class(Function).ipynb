{
 "cells": [
  {
   "cell_type": "code",
   "execution_count": 1,
   "metadata": {},
   "outputs": [],
   "source": [
    "#def <function name():\n",
    "#    <operations>\n",
    "    \n",
    "#<function>"
   ]
  },
  {
   "cell_type": "code",
   "execution_count": 2,
   "metadata": {},
   "outputs": [],
   "source": [
    "#print() type() str() list() tuple() dict()"
   ]
  },
  {
   "cell_type": "code",
   "execution_count": 3,
   "metadata": {},
   "outputs": [
    {
     "name": "stdout",
     "output_type": "stream",
     "text": [
      "Hello World\n"
     ]
    }
   ],
   "source": [
    "def hello():\n",
    "    print(\"Hello World\")\n",
    "    \n",
    "hello()"
   ]
  },
  {
   "cell_type": "code",
   "execution_count": 4,
   "metadata": {},
   "outputs": [
    {
     "name": "stdout",
     "output_type": "stream",
     "text": [
      "Enter l=10\n",
      "Enter b=2\n",
      "Enter h=3\n",
      "60\n"
     ]
    }
   ],
   "source": [
    "def cal():\n",
    "    l=int(input(\"Enter l=\"))     #local variable\n",
    "    b=int(input(\"Enter b=\"))\n",
    "    h=int(input(\"Enter h=\"))\n",
    "    v=l*b*h\n",
    "    print(v)\n",
    "    \n",
    "cal()"
   ]
  },
  {
   "cell_type": "code",
   "execution_count": 7,
   "metadata": {},
   "outputs": [
    {
     "name": "stdout",
     "output_type": "stream",
     "text": [
      "Enter l=10\n",
      "Enter b=2\n",
      "Enter h=3\n",
      "the volume= 60\n",
      "10 2 3\n"
     ]
    }
   ],
   "source": [
    "l=int(input(\"Enter l=\"))     #global variable\n",
    "b=int(input(\"Enter b=\"))\n",
    "h=int(input(\"Enter h=\"))\n",
    "\n",
    "def cal():\n",
    "    v=l*b*h\n",
    "    print(\"the volume=\",v)\n",
    "    \n",
    "cal()\n",
    "print(l,b,h)"
   ]
  },
  {
   "cell_type": "code",
   "execution_count": 11,
   "metadata": {},
   "outputs": [
    {
     "name": "stdout",
     "output_type": "stream",
     "text": [
      "Enter l=10\n",
      "Enter b=2\n",
      "Enter h=3\n",
      "The volume= 60\n",
      "The area= 24\n",
      "10 2 3\n"
     ]
    }
   ],
   "source": [
    "l=int(input(\"Enter l=\"))     #global variable\n",
    "b=int(input(\"Enter b=\"))\n",
    "h=int(input(\"Enter h=\"))\n",
    "\n",
    "def cal():\n",
    "    v=l*b*h\n",
    "    print(\"The volume=\",v)\n",
    "    \n",
    "def area():\n",
    "    a=(l+b)*2\n",
    "    print(\"The area=\",a)\n",
    "    \n",
    "cal()\n",
    "area()\n",
    "print(l,b,h)"
   ]
  },
  {
   "cell_type": "code",
   "execution_count": 15,
   "metadata": {},
   "outputs": [
    {
     "name": "stdout",
     "output_type": "stream",
     "text": [
      "Enter n=2\n",
      "Enter p=1000\n",
      "Enter t=4\n",
      "Enter r=7\n",
      "The value of i= 280.0\n",
      "Enter p=1200\n",
      "Enter t=5\n",
      "Enter r=7.5\n",
      "The value of i= 450.0\n"
     ]
    }
   ],
   "source": [
    "def cal():\n",
    "    p=float(input(\"Enter p=\"))\n",
    "    t=float(input(\"Enter t=\"))\n",
    "    r=float(input(\"Enter r=\"))\n",
    "    i=p*t*r/100\n",
    "    print(\"The value of i=\",i)\n",
    "\n",
    "n=int(input(\"Enter n=\"))\n",
    "for i in range(n):\n",
    "    cal()"
   ]
  },
  {
   "cell_type": "markdown",
   "metadata": {},
   "source": [
    "## "
   ]
  },
  {
   "cell_type": "code",
   "execution_count": 16,
   "metadata": {},
   "outputs": [],
   "source": [
    "#function without argument and no return type\n",
    "#function with argument and no return type\n",
    "#function without argument and return type\n",
    "#function with argument and return type"
   ]
  },
  {
   "cell_type": "code",
   "execution_count": 18,
   "metadata": {},
   "outputs": [
    {
     "name": "stdout",
     "output_type": "stream",
     "text": [
      "Hello  World\n"
     ]
    }
   ],
   "source": [
    "def hello(x):\n",
    "    print(x)\n",
    "    \n",
    "hello(\"Hello  World\")"
   ]
  },
  {
   "cell_type": "code",
   "execution_count": 19,
   "metadata": {},
   "outputs": [
    {
     "name": "stdout",
     "output_type": "stream",
     "text": [
      "20\n"
     ]
    }
   ],
   "source": [
    "def area(l,b):\n",
    "    a=l*b\n",
    "    print(a)\n",
    "    \n",
    "area(10,2)"
   ]
  },
  {
   "cell_type": "code",
   "execution_count": 21,
   "metadata": {},
   "outputs": [
    {
     "name": "stdout",
     "output_type": "stream",
     "text": [
      "Enter the value of l=10\n",
      "Enter the value of b=7\n",
      "70\n"
     ]
    }
   ],
   "source": [
    "def area(l,b):\n",
    "    a=l*b\n",
    "    print(a)\n",
    "    \n",
    "l=int(input(\"Enter the value of l=\"))   \n",
    "b=int(input(\"Enter the value of b=\"))\n",
    "area(l,b)"
   ]
  },
  {
   "cell_type": "code",
   "execution_count": 22,
   "metadata": {},
   "outputs": [
    {
     "name": "stdout",
     "output_type": "stream",
     "text": [
      "Enter the value of l=10\n",
      "Enter the value of b=10\n",
      "110\n"
     ]
    }
   ],
   "source": [
    "l=int(input(\"Enter the value of l=\"))   \n",
    "b=int(input(\"Enter the value of b=\"))\n",
    "\n",
    "def area(l,b):\n",
    "    a=l*b\n",
    "    print(a)\n",
    "    \n",
    "area(l,b+1)"
   ]
  },
  {
   "cell_type": "code",
   "execution_count": 24,
   "metadata": {},
   "outputs": [
    {
     "name": "stdout",
     "output_type": "stream",
     "text": [
      "Enter the value of l=10\n",
      "Enter the value of b=4\n",
      "40\n"
     ]
    }
   ],
   "source": [
    "def area(x,y):\n",
    "    a=x*y\n",
    "    print(a)\n",
    "    \n",
    "l=int(input(\"Enter the value of l=\"))   \n",
    "b=int(input(\"Enter the value of b=\"))\n",
    "area(l,b)"
   ]
  },
  {
   "cell_type": "code",
   "execution_count": 25,
   "metadata": {},
   "outputs": [
    {
     "name": "stdout",
     "output_type": "stream",
     "text": [
      "C++\n",
      "C#\n",
      "Java\n",
      "Python\n"
     ]
    }
   ],
   "source": [
    "def language(lan=\"Python\"):\n",
    "    print(lan)\n",
    "    \n",
    "language(\"C++\")\n",
    "language(\"C#\")\n",
    "language(\"Java\")\n",
    "language()"
   ]
  },
  {
   "cell_type": "code",
   "execution_count": 31,
   "metadata": {},
   "outputs": [
    {
     "name": "stdout",
     "output_type": "stream",
     "text": [
      "Enter n=2\n",
      "Enter a=10\n",
      "Enter b=7\n",
      "Enter + - * /-\n",
      "3\n",
      "Enter a=14\n",
      "Enter b=5\n",
      "Enter + - * //\n",
      "2.8\n"
     ]
    }
   ],
   "source": [
    "def cal(x,y,z):\n",
    "    if z==\"+\":\n",
    "        print(x+y)\n",
    "    elif z==\"-\":\n",
    "        print(x-y)\n",
    "    elif z==\"*\":\n",
    "        print(x*y)\n",
    "    elif z==\"/\":\n",
    "        print(x/y)\n",
    "    else:\n",
    "        print(\"Invailid operator\")\n",
    "n=int(input(\"Enter n=\"))\n",
    "for i in range(n):\n",
    "    a=int(input(\"Enter a=\"))\n",
    "    b=int(input(\"Enter b=\"))\n",
    "    o=input(\"Enter + - * /\")\n",
    "    cal(a,b,o)"
   ]
  },
  {
   "cell_type": "code",
   "execution_count": 32,
   "metadata": {},
   "outputs": [
    {
     "name": "stdout",
     "output_type": "stream",
     "text": [
      "Enter a=10\n",
      "Enter b=3\n",
      "Enter + - * //\n",
      "3.3333333333333335\n"
     ]
    }
   ],
   "source": [
    "def cal(x,y,z):\n",
    "    if z==\"+\":\n",
    "        print(x+y)\n",
    "    elif z==\"-\":\n",
    "        print(x-y)\n",
    "    elif z==\"*\":\n",
    "        print(x*y)\n",
    "    elif z==\"/\":\n",
    "        print(x/y)\n",
    "    else:\n",
    "        print(\"Invailid operator\")\n",
    "\n",
    "a=int(input(\"Enter a=\"))\n",
    "b=int(input(\"Enter b=\"))\n",
    "o=input(\"Enter + - * /\")\n",
    "cal(a,b,o)"
   ]
  },
  {
   "cell_type": "code",
   "execution_count": null,
   "metadata": {},
   "outputs": [],
   "source": []
  }
 ],
 "metadata": {
  "kernelspec": {
   "display_name": "Python 3",
   "language": "python",
   "name": "python3"
  },
  "language_info": {
   "codemirror_mode": {
    "name": "ipython",
    "version": 3
   },
   "file_extension": ".py",
   "mimetype": "text/x-python",
   "name": "python",
   "nbconvert_exporter": "python",
   "pygments_lexer": "ipython3",
   "version": "3.8.5"
  }
 },
 "nbformat": 4,
 "nbformat_minor": 4
}
