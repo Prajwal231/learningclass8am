{
 "cells": [
  {
   "cell_type": "code",
   "execution_count": null,
   "metadata": {},
   "outputs": [],
   "source": [
    "a=0\n",
    "while a<5:\n",
    "    print(\"Hello WOrld\")\n",
    "    "
   ]
  },
  {
   "cell_type": "code",
   "execution_count": 3,
   "metadata": {},
   "outputs": [
    {
     "name": "stdout",
     "output_type": "stream",
     "text": [
      "0 Hello World\n",
      "1 Hello World\n",
      "2 Hello World\n",
      "3 Hello World\n",
      "4 Hello World\n"
     ]
    }
   ],
   "source": [
    "a=0\n",
    "while a<5:\n",
    "    print(a,\"Hello World\")\n",
    "    a=a+1"
   ]
  },
  {
   "cell_type": "code",
   "execution_count": 7,
   "metadata": {},
   "outputs": [
    {
     "name": "stdout",
     "output_type": "stream",
     "text": [
      "0 Hello World\n",
      "1 Hello World\n",
      "2 Hello World\n",
      "3 Hello World\n",
      "4 Hello World\n"
     ]
    }
   ],
   "source": [
    "a=0\n",
    "while a<5:\n",
    "    print(a,\"Hello World\")\n",
    "    a=a+1"
   ]
  },
  {
   "cell_type": "code",
   "execution_count": 8,
   "metadata": {},
   "outputs": [
    {
     "name": "stdout",
     "output_type": "stream",
     "text": [
      "1 Hello World\n",
      "2 Hello World\n",
      "3 Hello World\n",
      "4 Hello World\n"
     ]
    }
   ],
   "source": [
    "a=1\n",
    "while a<5:\n",
    "    print(a,\"Hello World\")\n",
    "    a=a+1"
   ]
  },
  {
   "cell_type": "code",
   "execution_count": 9,
   "metadata": {},
   "outputs": [
    {
     "name": "stdout",
     "output_type": "stream",
     "text": [
      "1 Hello World\n",
      "3 Hello World\n"
     ]
    }
   ],
   "source": [
    "a=1\n",
    "while a<5:\n",
    "    print(a,\"Hello World\")\n",
    "    a=a+2"
   ]
  },
  {
   "cell_type": "code",
   "execution_count": 12,
   "metadata": {},
   "outputs": [
    {
     "name": "stdout",
     "output_type": "stream",
     "text": [
      "Enter the value of n=5\n",
      "Enter the value of x=123\n",
      "123\n",
      "Enter the value of x=35\n",
      "158\n",
      "Enter the value of x=456\n",
      "614\n",
      "Enter the value of x=23564\n",
      "24178\n",
      "Enter the value of x=312\n",
      "24490\n"
     ]
    }
   ],
   "source": [
    "#Addition\n",
    "a= 1\n",
    "s=0\n",
    "n=int(input(\"Enter the value of n=\"))\n",
    "while a<=n:\n",
    "    x= int(input(\"Enter the value of x=\"))\n",
    "    s= s+x\n",
    "    a=a+1\n",
    "    print(s)\n",
    "    "
   ]
  },
  {
   "cell_type": "code",
   "execution_count": 18,
   "metadata": {},
   "outputs": [
    {
     "name": "stdout",
     "output_type": "stream",
     "text": [
      "Enter n=3\n",
      "3 * 1 = 3\n",
      "3 * 2 = 6\n",
      "3 * 3 = 9\n",
      "3 * 4 = 12\n",
      "3 * 5 = 15\n",
      "3 * 6 = 18\n",
      "3 * 7 = 21\n",
      "3 * 8 = 24\n",
      "3 * 9 = 27\n",
      "3 * 10 = 30\n"
     ]
    }
   ],
   "source": [
    "#Multiplication\n",
    "a=1\n",
    "n=int(input(\"Enter n=\"))\n",
    "while a<=10:\n",
    "    print(n,\"*\",a,\"=\",n*a)\n",
    "    a+=1"
   ]
  },
  {
   "cell_type": "code",
   "execution_count": 23,
   "metadata": {},
   "outputs": [
    {
     "name": "stdout",
     "output_type": "stream",
     "text": [
      "Enter the value of n=2\n",
      "Enter name=Ram\n",
      "Enter name=Shyam\n",
      " Ram Shyam\n"
     ]
    }
   ],
   "source": [
    "#String in While Loop\n",
    "a=1\n",
    "s= \"\"\n",
    "n= int(input(\"Enter the value of n=\"))\n",
    "while a<=n:\n",
    "    name= input(\"Enter name=\")\n",
    "    s= s+\" \"+name\n",
    "    a= a+1\n",
    "print(s)"
   ]
  },
  {
   "cell_type": "code",
   "execution_count": 30,
   "metadata": {},
   "outputs": [
    {
     "name": "stdout",
     "output_type": "stream",
     "text": [
      "Enter no. of people=2\n",
      "Enter name=Ram\n",
      "Enter name=Shyam\n",
      "Ram\n",
      "Shyam\n",
      "\n"
     ]
    }
   ],
   "source": [
    "#String in for loop\n",
    "s=\"\"\n",
    "n=int(input(\"Enter no. of people=\"))\n",
    "for i in range(n):\n",
    "    name= input(\"Enter name=\")\n",
    "    s=s+name+\"\\n\"\n",
    "print(s)\n",
    "    "
   ]
  },
  {
   "cell_type": "code",
   "execution_count": 33,
   "metadata": {},
   "outputs": [
    {
     "name": "stdout",
     "output_type": "stream",
     "text": [
      "Enter no. of people=2\n",
      "Enter name=Ram\n",
      "Enter phone=9821445341\n",
      "Enter name=Shyam\n",
      "Enter phone=9844325781\n",
      "Ram 9821445341\n",
      "Shyam 9844325781\n",
      "\n"
     ]
    }
   ],
   "source": [
    "#Multiple data in for loop\n",
    "s=\"\"\n",
    "n=int(input(\"Enter no. of people=\"))\n",
    "for i in range(n):\n",
    "    name= input(\"Enter name=\")\n",
    "    phone=int(input(\"Enter phone=\"))\n",
    "    s=s+name+\" \"+str(phone)+ \"\\n\"\n",
    "print(s)"
   ]
  },
  {
   "cell_type": "code",
   "execution_count": 42,
   "metadata": {},
   "outputs": [
    {
     "name": "stdout",
     "output_type": "stream",
     "text": [
      "Enter no. of people=2\n",
      "Enter name=Ram\n",
      "Enter phone=9841325678\n",
      "Enter name=Shyam\n",
      "Enter phone=9833215896\n",
      "Enter name=Hari\n",
      "Enter phone=9872334561\n",
      "Ram 9841325678\n",
      "Shyam 9833215896\n",
      "Hari 9872334561\n",
      "\n"
     ]
    }
   ],
   "source": [
    "a=0\n",
    "s=\"\"\n",
    "n=int(input(\"Enter no. of people=\"))\n",
    "while a<=n:\n",
    "    name= input(\"Enter name=\")\n",
    "    phone=int(input(\"Enter phone=\"))\n",
    "    s=s+name+\" \"+str(phone)+\"\\n\"\n",
    "    a+= 1\n",
    "print(s)\n"
   ]
  },
  {
   "cell_type": "code",
   "execution_count": 43,
   "metadata": {},
   "outputs": [
    {
     "ename": "NameError",
     "evalue": "name 'o' is not defined",
     "output_type": "error",
     "traceback": [
      "\u001b[1;31m---------------------------------------------------------------------------\u001b[0m",
      "\u001b[1;31mNameError\u001b[0m                                 Traceback (most recent call last)",
      "\u001b[1;32m<ipython-input-43-fd06c9037cee>\u001b[0m in \u001b[0;36m<module>\u001b[1;34m\u001b[0m\n\u001b[0;32m      1\u001b[0m \u001b[1;31m#While loop as if else\u001b[0m\u001b[1;33m\u001b[0m\u001b[1;33m\u001b[0m\u001b[1;33m\u001b[0m\u001b[0m\n\u001b[1;32m----> 2\u001b[1;33m \u001b[0ma\u001b[0m\u001b[1;33m=\u001b[0m\u001b[0mo\u001b[0m\u001b[1;33m\u001b[0m\u001b[1;33m\u001b[0m\u001b[0m\n\u001b[0m",
      "\u001b[1;31mNameError\u001b[0m: name 'o' is not defined"
     ]
    }
   ],
   "source": [
    "#While loop as if else\n",
    "a=o"
   ]
  },
  {
   "cell_type": "code",
   "execution_count": 47,
   "metadata": {},
   "outputs": [
    {
     "name": "stdout",
     "output_type": "stream",
     "text": [
      "enter n=2\n",
      "this is +ve no.\n"
     ]
    }
   ],
   "source": [
    "a=0\n",
    "n=int(input(\"enter n=\"))\n",
    "while a<n:\n",
    "    print(\"this is +ve no.\")\n",
    "    break\n",
    "    "
   ]
  },
  {
   "cell_type": "code",
   "execution_count": 50,
   "metadata": {},
   "outputs": [
    {
     "name": "stdout",
     "output_type": "stream",
     "text": [
      "P\n",
      "y\n",
      "t\n",
      "h\n",
      "o\n",
      "n\n"
     ]
    }
   ],
   "source": [
    "s=\"Python\"\n",
    "a=0\n",
    "n= len(s)\n",
    "while a<n:\n",
    "    print(s[a])\n",
    "    a=a+1"
   ]
  },
  {
   "cell_type": "code",
   "execution_count": 58,
   "metadata": {},
   "outputs": [
    {
     "name": "stdout",
     "output_type": "stream",
     "text": [
      "H e l l o W o r l d "
     ]
    }
   ],
   "source": [
    "s=\"Hello World\"\n",
    "a=0\n",
    "n= len(s)\n",
    "while a<n:\n",
    "    if s[a]==\" \":\n",
    "        a=a+1\n",
    "        continue\n",
    "    print(s[a],end=\" \")\n",
    "    a=a+1\n",
    "    "
   ]
  },
  {
   "cell_type": "code",
   "execution_count": null,
   "metadata": {},
   "outputs": [],
   "source": []
  }
 ],
 "metadata": {
  "kernelspec": {
   "display_name": "Python 3",
   "language": "python",
   "name": "python3"
  },
  "language_info": {
   "codemirror_mode": {
    "name": "ipython",
    "version": 3
   },
   "file_extension": ".py",
   "mimetype": "text/x-python",
   "name": "python",
   "nbconvert_exporter": "python",
   "pygments_lexer": "ipython3",
   "version": "3.8.5"
  }
 },
 "nbformat": 4,
 "nbformat_minor": 4
}
